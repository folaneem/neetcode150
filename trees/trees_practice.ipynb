{
 "cells": [
  {
   "cell_type": "code",
   "id": "initial_id",
   "metadata": {
    "collapsed": true,
    "ExecuteTime": {
     "end_time": "2025-01-29T21:50:33.004902Z",
     "start_time": "2025-01-29T21:50:33.002668Z"
    }
   },
   "source": [
    "class Tree:\n",
    "\n",
    "    def __init__(self, val, left=None, right=None):\n",
    "        self.val = val\n",
    "        self.left = left\n",
    "        self.right = right\n",
    "\n",
    "    def __str__(self):\n",
    "        return str(self.val)\n"
   ],
   "outputs": [],
   "execution_count": 2
  },
  {
   "metadata": {
    "ExecuteTime": {
     "end_time": "2025-01-29T21:51:10.399790Z",
     "start_time": "2025-01-29T21:51:10.397925Z"
    }
   },
   "cell_type": "code",
   "source": [
    "A = Tree(1)\n",
    "B = Tree(2)\n",
    "C = Tree(3)\n",
    "D = Tree(4)\n",
    "E = Tree(5)\n",
    "F = Tree(10)"
   ],
   "id": "ae399da6c6393467",
   "outputs": [],
   "execution_count": 3
  },
  {
   "metadata": {
    "ExecuteTime": {
     "end_time": "2025-01-29T21:52:44.843211Z",
     "start_time": "2025-01-29T21:52:44.841022Z"
    }
   },
   "cell_type": "code",
   "source": [
    "A.left = B\n",
    "A.right = C\n",
    "B.left = D\n",
    "B.right = E\n",
    "C.left = F"
   ],
   "id": "c95ff5527520bf7a",
   "outputs": [],
   "execution_count": 5
  },
  {
   "metadata": {
    "ExecuteTime": {
     "end_time": "2025-01-29T22:00:13.278815Z",
     "start_time": "2025-01-29T22:00:13.275920Z"
    }
   },
   "cell_type": "code",
   "source": [
    "def pre_order(node):\n",
    "    if not node:\n",
    "        return\n",
    "    print(node)\n",
    "    pre_order(node.left)\n",
    "    pre_order(node.right)\n",
    "pre_order(A)"
   ],
   "id": "cff6a1d222a27e65",
   "outputs": [
    {
     "name": "stdout",
     "output_type": "stream",
     "text": [
      "1\n",
      "2\n",
      "4\n",
      "5\n",
      "3\n",
      "10\n"
     ]
    }
   ],
   "execution_count": 12
  },
  {
   "metadata": {},
   "cell_type": "code",
   "outputs": [],
   "execution_count": null,
   "source": [
    "def pre_order_iterative(node):\n",
    "    stack = [node]\n",
    "    while stack:\n",
    "        if node.left: pass\n",
    "        if node.right: pass\n",
    "\n",
    "pre_order(A)"
   ],
   "id": "17afa4ed860873f8"
  }
 ],
 "metadata": {
  "kernelspec": {
   "display_name": "Python 3",
   "language": "python",
   "name": "python3"
  },
  "language_info": {
   "codemirror_mode": {
    "name": "ipython",
    "version": 2
   },
   "file_extension": ".py",
   "mimetype": "text/x-python",
   "name": "python",
   "nbconvert_exporter": "python",
   "pygments_lexer": "ipython2",
   "version": "2.7.6"
  }
 },
 "nbformat": 4,
 "nbformat_minor": 5
}
