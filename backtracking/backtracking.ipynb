{
 "cells": [
  {
   "cell_type": "code",
   "id": "initial_id",
   "metadata": {
    "collapsed": true,
    "ExecuteTime": {
     "end_time": "2025-04-23T09:01:59.285601Z",
     "start_time": "2025-04-23T09:01:59.279139Z"
    }
   },
   "source": [
    "# Word search\n",
    "from typing import List\n",
    "\n",
    "\n",
    "def word_search(board: List[List[str]], word: str) -> bool:\n",
    "    rows, cols = len(board), len(board[0])\n",
    "    length_of_word = len(word)\n",
    "\n",
    "    def backtrack(i, j, index):\n",
    "        if index == length_of_word:\n",
    "            return True\n",
    "        if i < 0 or i >= rows or j < 0 or j >= cols or board[i][j] != word[index]:\n",
    "            return False\n",
    "\n",
    "        temp = board[i][j]\n",
    "        board[i][j] = \"#\"\n",
    "        for i_off, j_off in [(-1, 0), (0, -1), (0, 1), (1, 0)]:\n",
    "            r, c = i + i_off, j + j_off\n",
    "            if backtrack(r, c, index + 1):\n",
    "                return True\n",
    "        board[i][j] = temp\n",
    "\n",
    "        return False\n",
    "\n",
    "    for i in range(rows):\n",
    "        for j in range(cols):\n",
    "            if backtrack(i, j, 0):\n",
    "                return True\n",
    "\n",
    "    return False\n",
    "\n",
    "\n",
    "print(word_search(board=[[\"A\", \"B\", \"C\", \"E\"]], word=\"ABC\"))"
   ],
   "outputs": [
    {
     "name": "stdout",
     "output_type": "stream",
     "text": [
      "True\n"
     ]
    }
   ],
   "execution_count": 58
  },
  {
   "metadata": {
    "ExecuteTime": {
     "end_time": "2025-04-20T09:49:35.803729Z",
     "start_time": "2025-04-20T09:49:35.800699Z"
    }
   },
   "cell_type": "code",
   "source": "",
   "id": "590f6d77ab920e3d",
   "outputs": [],
   "execution_count": null
  }
 ],
 "metadata": {
  "kernelspec": {
   "display_name": "Python 3",
   "language": "python",
   "name": "python3"
  },
  "language_info": {
   "codemirror_mode": {
    "name": "ipython",
    "version": 2
   },
   "file_extension": ".py",
   "mimetype": "text/x-python",
   "name": "python",
   "nbconvert_exporter": "python",
   "pygments_lexer": "ipython2",
   "version": "2.7.6"
  }
 },
 "nbformat": 4,
 "nbformat_minor": 5
}
