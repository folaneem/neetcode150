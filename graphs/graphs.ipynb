{
 "cells": [
  {
   "metadata": {},
   "cell_type": "markdown",
   "source": "<img src=\"img.png\">",
   "id": "54bf3d89a62ce955"
  },
  {
   "metadata": {
    "ExecuteTime": {
     "end_time": "2025-04-19T17:09:21.477602Z",
     "start_time": "2025-04-19T17:09:21.309543Z"
    }
   },
   "cell_type": "code",
   "source": [
    "from tkinter.messagebox import RETRY\n",
    "from typing import List, DefaultDict\n",
    "\n",
    "# Array of Edges (Directed) [Start, End]\n",
    "n = 8\n",
    "A = [[0, 1], [1, 2], [0, 3], [3, 4], [3, 6], [3, 7], [4, 2], [4, 5], [5, 2]]\n",
    "\n",
    "A"
   ],
   "id": "9cfa9fedf11eb545",
   "outputs": [
    {
     "data": {
      "text/plain": [
       "[[0, 1], [1, 2], [0, 3], [3, 4], [3, 6], [3, 7], [4, 2], [4, 5], [5, 2]]"
      ]
     },
     "execution_count": 76,
     "metadata": {},
     "output_type": "execute_result"
    }
   ],
   "execution_count": 76
  },
  {
   "metadata": {
    "ExecuteTime": {
     "end_time": "2025-04-19T17:10:03.249821Z",
     "start_time": "2025-04-19T17:10:03.246490Z"
    }
   },
   "cell_type": "code",
   "source": [
    "# Convert Array of Edges -> Adjacency Matrix\n",
    "\n",
    "M = []\n",
    "for i in range(n):\n",
    "    M.append([0] * n)\n",
    "\n",
    "for u, v in A:\n",
    "    M[u][v] = 1\n",
    "\n",
    "M"
   ],
   "id": "d951a9781463a013",
   "outputs": [
    {
     "data": {
      "text/plain": [
       "[[0, 1, 0, 1, 0, 0, 0, 0],\n",
       " [0, 0, 1, 0, 0, 0, 0, 0],\n",
       " [0, 0, 0, 0, 0, 0, 0, 0],\n",
       " [0, 0, 0, 0, 1, 0, 1, 1],\n",
       " [0, 0, 1, 0, 0, 1, 0, 0],\n",
       " [0, 0, 1, 0, 0, 0, 0, 0],\n",
       " [0, 0, 0, 0, 0, 0, 0, 0],\n",
       " [0, 0, 0, 0, 0, 0, 0, 0]]"
      ]
     },
     "execution_count": 77,
     "metadata": {},
     "output_type": "execute_result"
    }
   ],
   "execution_count": 77
  },
  {
   "metadata": {
    "ExecuteTime": {
     "end_time": "2025-04-19T17:10:08.875561Z",
     "start_time": "2025-04-19T17:10:08.872422Z"
    }
   },
   "cell_type": "code",
   "source": [
    "# Convert Array of Edges -> Adjacency List\n",
    "from collections import defaultdict\n",
    "\n",
    "D = defaultdict(list)\n",
    "\n",
    "for u, v in A:\n",
    "    D[u].append(v)\n",
    "    # Uncomment the following line if the graph is undirected\n",
    "    # D[v].append(u)\n",
    "\n",
    "D"
   ],
   "id": "faf1974c5b99f3a4",
   "outputs": [
    {
     "data": {
      "text/plain": [
       "defaultdict(list, {0: [1, 3], 1: [2], 3: [4, 6, 7], 4: [2, 5], 5: [2]})"
      ]
     },
     "execution_count": 78,
     "metadata": {},
     "output_type": "execute_result"
    }
   ],
   "execution_count": 78
  },
  {
   "metadata": {
    "ExecuteTime": {
     "end_time": "2025-04-19T17:10:13.253033Z",
     "start_time": "2025-04-19T17:10:13.250164Z"
    }
   },
   "cell_type": "code",
   "source": [
    "# DFS with Recursion - O(V + E) where V is the number of nodes and E is the number of edges\n",
    "\n",
    "def dfs_recursive(node):\n",
    "    print(node)\n",
    "    for nei_node in D[node]:\n",
    "        if nei_node not in seen:\n",
    "            seen.add(nei_node)\n",
    "            dfs_recursive(nei_node)\n",
    "\n",
    "\n",
    "source = 0\n",
    "seen = set()\n",
    "seen.add(source)\n",
    "dfs_recursive(source)"
   ],
   "id": "7ea5a51c54420edb",
   "outputs": [
    {
     "name": "stdout",
     "output_type": "stream",
     "text": [
      "0\n",
      "1\n",
      "2\n",
      "3\n",
      "4\n",
      "5\n",
      "6\n",
      "7\n"
     ]
    }
   ],
   "execution_count": 79
  },
  {
   "metadata": {
    "ExecuteTime": {
     "end_time": "2025-04-06T12:23:40.254605Z",
     "start_time": "2025-04-06T12:23:40.252294Z"
    }
   },
   "cell_type": "code",
   "source": [
    "# Iterative DFS with Stack - O(V + E)\n",
    "\n",
    "source = 0\n",
    "\n",
    "seen = set()\n",
    "seen.add(source)\n",
    "stack = [source]\n",
    "\n",
    "while stack:\n",
    "    node = stack.pop()\n",
    "    print(node)\n",
    "    for nei_node in D[node]:\n",
    "        if nei_node not in seen:\n",
    "            seen.add(nei_node)\n",
    "            stack.append(nei_node)"
   ],
   "id": "374e5973d6dc069c",
   "outputs": [
    {
     "name": "stdout",
     "output_type": "stream",
     "text": [
      "0\n",
      "3\n",
      "7\n",
      "6\n",
      "4\n",
      "5\n",
      "2\n",
      "1\n"
     ]
    }
   ],
   "execution_count": 12
  },
  {
   "metadata": {
    "ExecuteTime": {
     "end_time": "2025-04-06T12:23:53.888499Z",
     "start_time": "2025-04-06T12:23:53.885554Z"
    }
   },
   "cell_type": "code",
   "source": [
    "# BFS (Queue) - O(V + E)\n",
    "\n",
    "source = 0\n",
    "\n",
    "from collections import deque\n",
    "\n",
    "seen = set()\n",
    "seen.add(source)\n",
    "q = deque()\n",
    "q.append(source)\n",
    "\n",
    "while q:\n",
    "    node = q.popleft()\n",
    "    print(node)\n",
    "    for nei_node in D[node]:\n",
    "        if nei_node not in seen:\n",
    "            seen.add(nei_node)\n",
    "            q.append(nei_node)"
   ],
   "id": "76a014965a828819",
   "outputs": [
    {
     "name": "stdout",
     "output_type": "stream",
     "text": [
      "0\n",
      "1\n",
      "3\n",
      "2\n",
      "4\n",
      "6\n",
      "7\n",
      "5\n"
     ]
    }
   ],
   "execution_count": 13
  },
  {
   "metadata": {
    "ExecuteTime": {
     "end_time": "2025-04-06T12:24:10.102310Z",
     "start_time": "2025-04-06T12:24:10.098102Z"
    }
   },
   "cell_type": "code",
   "source": [
    "class Node:\n",
    "    def __init__(self, value):\n",
    "        self.value = value\n",
    "        self.neighbors = []\n",
    "\n",
    "    def __str__(self):\n",
    "        return f'Node({self.value})'\n",
    "\n",
    "    def display(self):\n",
    "        connections = [node.value for node in self.neighbors]\n",
    "        return f'{self.value} is connected to: {connections}'\n",
    "\n",
    "\n",
    "A = Node('A')\n",
    "B = Node('B')\n",
    "C = Node('C')\n",
    "D = Node('D')\n",
    "\n",
    "A.neighbors.append(B)\n",
    "B.neighbors.append(A)\n",
    "\n",
    "C.neighbors.append(D)\n",
    "D.neighbors.append(C)\n",
    "\n",
    "B.display()"
   ],
   "id": "a62663ceca015b67",
   "outputs": [
    {
     "data": {
      "text/plain": [
       "\"B is connected to: ['A']\""
      ]
     },
     "execution_count": 14,
     "metadata": {},
     "output_type": "execute_result"
    }
   ],
   "execution_count": 14
  },
  {
   "metadata": {
    "ExecuteTime": {
     "end_time": "2025-04-06T17:45:42.142771Z",
     "start_time": "2025-04-06T17:45:42.139390Z"
    }
   },
   "cell_type": "code",
   "source": [
    "# Find if Path Exists in Graph\n",
    "from typing import List\n",
    "from collections import defaultdict\n",
    "\n",
    "\n",
    "def is_path_valid(n: int, edges: List[List[int]], source: int, destination: int):\n",
    "    graph = defaultdict(list)\n",
    "    for edge in edges:\n",
    "        graph[edge[0]].append(edge[1])\n",
    "        graph[edge[1]].append(edge[0])\n",
    "    print(graph)\n",
    "\n",
    "    seen = set()\n",
    "    seen.add(source)\n",
    "    stk = [source]\n",
    "\n",
    "    while stk:\n",
    "        node = stk.pop()\n",
    "        if node == destination:\n",
    "            return True\n",
    "        for nei_node in graph[node]:\n",
    "            if nei_node not in seen:\n",
    "                stk.append(nei_node)\n",
    "                seen.add(nei_node)\n",
    "    return False\n",
    "\n",
    "\n",
    "print(is_path_valid(n=3, edges=[[0, 1], [1, 2], [2, 0]], source=0, destination=5))"
   ],
   "id": "5c9aa91b86e7aa5e",
   "outputs": [
    {
     "name": "stdout",
     "output_type": "stream",
     "text": [
      "defaultdict(<class 'list'>, {0: [1, 2], 1: [0, 2], 2: [1, 0]})\n",
      "False\n"
     ]
    }
   ],
   "execution_count": 19
  },
  {
   "metadata": {
    "ExecuteTime": {
     "end_time": "2025-04-06T18:13:40.066907Z",
     "start_time": "2025-04-06T18:13:40.063930Z"
    }
   },
   "cell_type": "code",
   "source": [
    "# Number of Islands\n",
    "\n",
    "def number_of_islands(grid: List[List[str]]):\n",
    "    rows, cols = len(grid), len(grid[0])\n",
    "    print(\"row=\", rows, \"cols\", cols)\n",
    "\n",
    "    def dfs(i, j):\n",
    "        if i < 0 or i >= rows or j < 0 or j >= cols or grid[i][j] != \"1\":\n",
    "            return\n",
    "        else:\n",
    "            grid[i][j] = \"0\"\n",
    "            dfs(i, j + 1)\n",
    "            dfs(i + 1, j)\n",
    "            dfs(i - 1, j)\n",
    "            dfs(i, j - 1)\n",
    "\n",
    "    island = 0\n",
    "    for i in range(rows):\n",
    "        for j in range(cols):\n",
    "            if grid[i][j] == \"1\":\n",
    "                island += 1\n",
    "                dfs(i, j)\n",
    "\n",
    "    return island\n",
    "\n",
    "\n",
    "print(number_of_islands(grid=[\n",
    "    [\"1\", \"1\", \"0\", \"0\", \"0\"],\n",
    "    [\"1\", \"1\", \"0\", \"0\", \"0\"],\n",
    "    [\"0\", \"0\", \"1\", \"0\", \"0\"],\n",
    "    [\"0\", \"0\", \"0\", \"1\", \"1\"]\n",
    "]))"
   ],
   "id": "9ec889240dc688f6",
   "outputs": [
    {
     "name": "stdout",
     "output_type": "stream",
     "text": [
      "row= 4 cols 5\n",
      "3\n"
     ]
    }
   ],
   "execution_count": 25
  },
  {
   "metadata": {
    "ExecuteTime": {
     "end_time": "2025-04-19T17:40:22.462113Z",
     "start_time": "2025-04-19T17:40:22.458843Z"
    }
   },
   "cell_type": "code",
   "source": [
    "# Max Area of Island\n",
    "\n",
    "def max_area_of_island(grid: List[List[str]]):\n",
    "    rows, cols = len(grid), len(grid[0])\n",
    "\n",
    "    def get_area_of_island(r, c):\n",
    "        stk = [(r, c)]\n",
    "        count = 0\n",
    "        while stk:\n",
    "            i, j = stk.pop()\n",
    "            if 0 <= i < rows and 0 <= j < cols and grid[i][j] == 1:\n",
    "                grid[i][j] = 0\n",
    "                count += 1\n",
    "                stk.append((i + 1, j))\n",
    "                stk.append((i, j + 1))\n",
    "                stk.append((i - 1, j))\n",
    "                stk.append((i, j - 1))\n",
    "        return count\n",
    "\n",
    "    max_area = float(\"-inf\")\n",
    "    for r in range(rows):\n",
    "        for c in range(cols):\n",
    "            if grid[r][c] == 1:\n",
    "                area = get_area_of_island(r, c)\n",
    "                max_area = max(max_area, area)\n",
    "    return max_area\n",
    "\n",
    "\n",
    "\n",
    "print(max_area_of_island(grid=[[0, 0, 1, 0, 0, 0, 0, 1, 0, 0, 0, 0, 0],\n",
    "                               [0, 0, 0, 0, 0, 0, 0, 1, 1, 1, 0, 0, 0],\n",
    "                               [0, 1, 1, 0, 1, 0, 0, 0, 0, 0, 0, 0, 0],\n",
    "                               [0, 1, 0, 0, 1, 1, 0, 0, 1, 0, 1, 0, 0],\n",
    "                               [0, 1, 0, 0, 1, 1, 0, 0, 1, 1, 1, 0, 0],\n",
    "                               [0, 0, 0, 0, 0, 0, 0, 0, 0, 0, 1, 0, 0],\n",
    "                               [0, 0, 0, 0, 0, 0, 0, 1, 1, 1, 0, 0, 0],\n",
    "                               [0, 0, 0, 0, 0, 0, 0, 1, 1, 0, 0, 0, 0]]))"
   ],
   "id": "726c4a734c0af36e",
   "outputs": [
    {
     "name": "stdout",
     "output_type": "stream",
     "text": [
      "6\n"
     ]
    }
   ],
   "execution_count": 82
  },
  {
   "metadata": {
    "ExecuteTime": {
     "end_time": "2025-04-25T20:35:26.386991Z",
     "start_time": "2025-04-25T20:35:26.374158Z"
    }
   },
   "cell_type": "code",
   "source": [
    "# Course Schedule\n",
    "\n",
    "\n",
    "def canFinish(numCourses: int, prerequisites: List[List[int]]) -> bool:\n",
    "    graph = defaultdict(list)\n",
    "    for node in prerequisites:\n",
    "        graph[node[0]].append(node[1])\n",
    "\n",
    "    UNVISITED = 0\n",
    "    VISITING = 1\n",
    "    VISITED = 2\n",
    "\n",
    "    states = [UNVISITED] * numCourses\n",
    "\n",
    "    def dfs(n):\n",
    "        state = states[n]\n",
    "        if state == VISITED:\n",
    "            return True\n",
    "        if state == VISITING:\n",
    "            return False\n",
    "        states[n] = VISITING\n",
    "        for item in graph[n]:\n",
    "            if not dfs(item):\n",
    "                return False\n",
    "        states[n] == VISITED\n",
    "        return True\n",
    "\n",
    "    for i in range(numCourses):\n",
    "        if not dfs(i):\n",
    "            return False\n",
    "\n",
    "    return True\n",
    "\n",
    "\n",
    "print(canFinish(numCourses=2, prerequisites=[[1, 0]]))\n"
   ],
   "id": "3f084a3ada1db4e2",
   "outputs": [
    {
     "name": "stdout",
     "output_type": "stream",
     "text": [
      "False\n"
     ]
    }
   ],
   "execution_count": 83
  },
  {
   "metadata": {
    "ExecuteTime": {
     "end_time": "2025-04-25T20:44:37.879847Z",
     "start_time": "2025-04-25T20:44:37.876358Z"
    }
   },
   "cell_type": "code",
   "source": [
    "# Course Schedule II\n",
    "\n",
    "# Python\n",
    "from collections import defaultdict\n",
    "from typing import List\n",
    "\n",
    "def findOrder(numCourses: int, prerequisites: List[List[int]]) -> List[int]:\n",
    "    graph = defaultdict(list)\n",
    "    # Build the graph: edge from prerequisite to course.\n",
    "    for course, prereq in prerequisites:\n",
    "        graph[course].append(prereq)\n",
    "\n",
    "    # State: 0 = unvisited, 1 = visiting, 2 = visited.\n",
    "    state = [0] * numCourses\n",
    "    order = []\n",
    "    UNVISITED, VISITING, VISITED = 0, 1, 2\n",
    "\n",
    "    def dfs(node: int) -> bool:\n",
    "        if state[node] == VISITING:\n",
    "            return False\n",
    "        if state[node] == VISITED:\n",
    "            return True\n",
    "        state[node] = VISITING\n",
    "        for neighbor in graph[node]:\n",
    "            if not dfs(neighbor):\n",
    "                return False\n",
    "        state[node] = VISITED\n",
    "        order.append(node)\n",
    "        return True\n",
    "\n",
    "    # Visit every course.\n",
    "    for course in range(numCourses):\n",
    "        if state[course] == UNVISITED:\n",
    "            if not dfs(course):\n",
    "                return []\n",
    "    # Reverse order to get a valid topological order.\n",
    "    return order[::-1]\n",
    "\n",
    "print(findOrder(numCourses=4, prerequisites=[[1, 0], [2, 0], [3, 1], [3, 2]]))"
   ],
   "id": "267ad8dd484bbe78",
   "outputs": [
    {
     "name": "stdout",
     "output_type": "stream",
     "text": [
      "[3, 2, 1, 0]\n"
     ]
    }
   ],
   "execution_count": 89
  },
  {
   "metadata": {
    "ExecuteTime": {
     "end_time": "2025-04-18T08:56:06.102227Z",
     "start_time": "2025-04-18T08:56:06.097443Z"
    }
   },
   "cell_type": "code",
   "source": [
    "from collections import deque\n",
    "\n",
    "\n",
    "def pacificAtlantic(heights: List[List[int]]) -> List[List[int]]:\n",
    "    p_que = deque()\n",
    "    p_seen = set()\n",
    "\n",
    "    a_que = deque()\n",
    "    a_seen = set()\n",
    "\n",
    "    m, n = len(heights), len(heights[0])\n",
    "\n",
    "    for j in range(n):\n",
    "        p_que.append((0, j))\n",
    "        p_seen.add((0, j))\n",
    "\n",
    "    for i in range(1, m):\n",
    "        p_que.append((i, 0))\n",
    "        p_seen.add((i, 0))\n",
    "\n",
    "    for i in range(m):\n",
    "        a_que.append((i, n - 1))\n",
    "        a_seen.add((i, n - 1))\n",
    "\n",
    "    for j in range(n - 1):\n",
    "        a_que.append((m - 1, j))\n",
    "        a_seen.add((m - 1, j))\n",
    "\n",
    "    def get_coords(que, seen):\n",
    "        while que:\n",
    "            i, j = que.popleft()\n",
    "            for i_off, j_off in [(0, 1), (1, 0), (-1, 0), (0, -1)]:\n",
    "                r, c = i + i_off, j + j_off\n",
    "                if 0 <= r < m and 0 <= c < n and heights[r][c] >= heights[i][j] and (r, c) not in seen:\n",
    "                    seen.add((r, c))\n",
    "                    que.append((r, c))\n",
    "\n",
    "    get_coords(p_que, p_seen)\n",
    "    get_coords(a_que, a_seen)\n",
    "    return list(p_seen.intersection(a_seen))\n",
    "\n",
    "\n",
    "# Time Complexity: O(m*n)\n",
    "# Space Complexity: O(m*n)\n",
    "print(pacificAtlantic(\n",
    "    heights=[[1, 2, 2, 3, 5], [3, 2, 3, 4, 4], [2, 4, 5, 3, 1], [6, 7, 1, 4, 5], [5, 1, 1, 2, 4]]))"
   ],
   "id": "659a05374f641e4",
   "outputs": [
    {
     "name": "stdout",
     "output_type": "stream",
     "text": [
      "[(4, 0), (0, 4), (3, 1), (1, 4), (3, 0), (2, 2), (1, 3)]\n"
     ]
    }
   ],
   "execution_count": 49
  },
  {
   "metadata": {
    "ExecuteTime": {
     "end_time": "2025-04-18T09:20:26.119187Z",
     "start_time": "2025-04-18T09:20:26.115987Z"
    }
   },
   "cell_type": "code",
   "source": [
    "def orangesRotting(grid: List[List[int]]) -> int:\n",
    "    EMPTY, FRESH, ROTTEN = 0, 1, 2\n",
    "    m, n = len(grid), len(grid[0])\n",
    "    num_fresh = 0\n",
    "    q = deque()\n",
    "\n",
    "    for i in range(m):\n",
    "        for j in range(n):\n",
    "            if grid[i][j] == ROTTEN:\n",
    "                q.append((i, j))\n",
    "            elif grid[i][j] == FRESH:\n",
    "                num_fresh += 1\n",
    "\n",
    "    if num_fresh == 0:\n",
    "        return 0\n",
    "\n",
    "    num_minutes = -1\n",
    "    while q:\n",
    "        q_size = len(q)\n",
    "        num_minutes += 1\n",
    "\n",
    "        for _ in range(q_size):\n",
    "            i, j = q.popleft()\n",
    "            for r, c in [(i, j + 1), (i + 1, j), (i, j - 1), (i - 1, j)]:\n",
    "                if 0 <= r < m and 0 <= c < n and grid[r][c] == FRESH:\n",
    "                    grid[r][c] = ROTTEN\n",
    "                    num_fresh -= 1\n",
    "                    q.append((r, c))\n",
    "\n",
    "    if num_fresh == 0:\n",
    "        return num_minutes\n",
    "    else:\n",
    "        return -1"
   ],
   "id": "2c8a74ebcd27903f",
   "outputs": [
    {
     "name": "stdout",
     "output_type": "stream",
     "text": [
      "None\n"
     ]
    }
   ],
   "execution_count": 50
  },
  {
   "metadata": {
    "ExecuteTime": {
     "end_time": "2025-04-19T10:38:59.082300Z",
     "start_time": "2025-04-19T10:38:59.078771Z"
    }
   },
   "cell_type": "code",
   "source": [
    "# Min cost connecting points\n",
    "import heapq\n",
    "\n",
    "\n",
    "def min_cost_connecting_points(points: List[List[int]]) -> int:\n",
    "    print(points)\n",
    "\n",
    "    total_cost = 0\n",
    "    storage = [(0, points[0])]\n",
    "    seen = set()\n",
    "\n",
    "    while len(seen) < len(points):\n",
    "        cost, p = heapq.heappop(storage)\n",
    "        if (p[0], p[1]) in seen:\n",
    "            continue\n",
    "        total_cost += cost\n",
    "        seen.add((p[0], p[1]))\n",
    "\n",
    "        for a in points:\n",
    "            if (a[0], a[1]) not in seen:\n",
    "                c = abs(p[0] - a[0]) + abs(p[1] - a[1])\n",
    "                heapq.heappush(storage, (c, a))\n",
    "    return total_cost\n",
    "\n",
    "\n",
    "print(min_cost_connecting_points(points=[[0, 0], [2, 2], [3, 10], [5, 2], [7, 0]]))"
   ],
   "id": "996b395b1471c963",
   "outputs": [
    {
     "name": "stdout",
     "output_type": "stream",
     "text": [
      "[[0, 0], [2, 2], [3, 10], [5, 2], [7, 0]]\n",
      "20\n"
     ]
    }
   ],
   "execution_count": 70
  },
  {
   "metadata": {
    "ExecuteTime": {
     "end_time": "2025-04-19T16:52:01.559824Z",
     "start_time": "2025-04-19T16:52:01.556424Z"
    }
   },
   "cell_type": "code",
   "source": [
    "# Network Delay Time\n",
    "import heapq\n",
    "\n",
    "\n",
    "def network_delay_time(times: List[List[int]], n: int, k: int) -> int:\n",
    "    graph = defaultdict(list)\n",
    "\n",
    "    for source, destination, time in times:\n",
    "        graph[source].append((destination, time))\n",
    "\n",
    "    ct = {}\n",
    "    hp = [(0, k)]\n",
    "\n",
    "    while hp:\n",
    "        time, node = heapq.heappop(hp)\n",
    "        if node in ct:\n",
    "            continue\n",
    "        ct[node] = time\n",
    "        for dest, t in graph[node]:\n",
    "            if dest not in ct:\n",
    "                heapq.heappush(hp, (time + t, dest))\n",
    "    return max(ct.values())\n",
    "\n",
    "\n",
    "print(network_delay_time(times=[[2, 1, 1], [2, 3, 1], [3, 4, 1]], n=4, k=2))"
   ],
   "id": "d05b474a6fcee29b",
   "outputs": [
    {
     "name": "stdout",
     "output_type": "stream",
     "text": [
      "2\n"
     ]
    }
   ],
   "execution_count": 75
  },
  {
   "metadata": {},
   "cell_type": "code",
   "outputs": [],
   "execution_count": null,
   "source": "",
   "id": "bc6c334ca10fa23"
  }
 ],
 "metadata": {
  "kernelspec": {
   "display_name": "Python 3",
   "language": "python",
   "name": "python3"
  },
  "language_info": {
   "codemirror_mode": {
    "name": "ipython",
    "version": 2
   },
   "file_extension": ".py",
   "mimetype": "text/x-python",
   "name": "python",
   "nbconvert_exporter": "python",
   "pygments_lexer": "ipython2",
   "version": "2.7.6"
  }
 },
 "nbformat": 4,
 "nbformat_minor": 5
}
