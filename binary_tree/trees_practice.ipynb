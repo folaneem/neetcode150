{
 "cells": [
  {
   "cell_type": "code",
   "id": "initial_id",
   "metadata": {
    "collapsed": true,
    "ExecuteTime": {
     "end_time": "2025-04-01T20:04:38.995035Z",
     "start_time": "2025-04-01T20:04:38.991329Z"
    }
   },
   "source": [
    "from typing import Optional\n",
    "\n",
    "from debugpy.launcher.debuggee import process\n",
    "\n",
    "from linked_list.reverse_linked_list import result\n",
    "\n",
    "\n",
    "class TreeNode:\n",
    "    def __init__(self, val=0, left=None, right=None):\n",
    "        self.val = val\n",
    "        self.left = left\n",
    "        self.right = right\n",
    "\n",
    "    def __str__(self):\n",
    "        return str(self.val)\n",
    "\n",
    "    def __repr__(self):\n",
    "        return f\"TreeNode(val={self.val}, left={self.left}, right={self.right})\""
   ],
   "outputs": [
    {
     "name": "stdout",
     "output_type": "stream",
     "text": [
      "\n"
     ]
    }
   ],
   "execution_count": 2
  },
  {
   "metadata": {
    "ExecuteTime": {
     "end_time": "2025-04-05T13:13:25.513357Z",
     "start_time": "2025-04-05T13:13:25.511300Z"
    }
   },
   "cell_type": "code",
   "source": [
    "A = TreeNode(1)\n",
    "B = TreeNode(2)\n",
    "C = TreeNode(3)\n",
    "D = TreeNode(4)\n",
    "E = TreeNode(5)\n",
    "F = TreeNode(6)\n",
    "G = TreeNode(7)\n",
    "H = TreeNode(8)\n",
    "I = TreeNode(9)"
   ],
   "id": "ae399da6c6393467",
   "outputs": [],
   "execution_count": 28
  },
  {
   "metadata": {
    "ExecuteTime": {
     "end_time": "2025-04-05T13:19:34.502700Z",
     "start_time": "2025-04-05T13:19:34.500202Z"
    }
   },
   "cell_type": "code",
   "source": [
    "A.left = B\n",
    "A.right = C\n",
    "B.left = D\n",
    "B.right = E\n",
    "C.left = F\n",
    "print(A)\n"
   ],
   "id": "c95ff5527520bf7a",
   "outputs": [
    {
     "name": "stdout",
     "output_type": "stream",
     "text": [
      "1\n"
     ]
    }
   ],
   "execution_count": 35
  },
  {
   "metadata": {
    "ExecuteTime": {
     "end_time": "2025-04-05T13:13:33.412948Z",
     "start_time": "2025-04-05T13:13:33.410363Z"
    }
   },
   "cell_type": "code",
   "source": [
    "# DFS\n",
    "def pre_order_iterative(node):\n",
    "    stack = [node]\n",
    "    while stack:\n",
    "        node = stack.pop()\n",
    "        if node.right:\n",
    "            stack.append(node.right)\n",
    "        print(node)\n",
    "        if node.left:\n",
    "            stack.append(node.left)\n",
    "\n",
    "\n",
    "pre_order_iterative(A)"
   ],
   "id": "17afa4ed860873f8",
   "outputs": [
    {
     "name": "stdout",
     "output_type": "stream",
     "text": [
      "1\n",
      "2\n",
      "4\n",
      "5\n",
      "3\n",
      "6\n"
     ]
    }
   ],
   "execution_count": 30
  },
  {
   "metadata": {
    "ExecuteTime": {
     "end_time": "2025-03-18T07:18:50.381616Z",
     "start_time": "2025-03-18T07:18:50.377620Z"
    }
   },
   "cell_type": "code",
   "source": [
    "# BFS queue\n",
    "from collections import deque\n",
    "\n",
    "\n",
    "def pre_order_iterative_bfs(node):\n",
    "    queue = deque()\n",
    "    queue.append(node)\n",
    "    while queue:\n",
    "        node = queue.popleft()\n",
    "        print(node)\n",
    "        if node.left:\n",
    "            queue.append(node.left)\n",
    "        if node.right:\n",
    "            queue.append(node.right)\n",
    "\n",
    "\n",
    "pre_order_iterative_bfs(A)"
   ],
   "id": "13cae6a781b5a9d3",
   "outputs": [
    {
     "name": "stdout",
     "output_type": "stream",
     "text": [
      "1\n",
      "2\n",
      "3\n",
      "4\n",
      "5\n",
      "6\n",
      "7\n"
     ]
    }
   ],
   "execution_count": 66
  },
  {
   "metadata": {
    "ExecuteTime": {
     "end_time": "2025-03-18T07:18:58.430177Z",
     "start_time": "2025-03-18T07:18:58.425971Z"
    }
   },
   "cell_type": "code",
   "source": [
    "def search(node, target):\n",
    "    stack = [node]\n",
    "    result = None\n",
    "    while stack:\n",
    "        node = stack.pop()\n",
    "        if node.val == target:\n",
    "            result = node\n",
    "        if node.right:\n",
    "            stack.append(node.right)\n",
    "        if node.left:\n",
    "            stack.append(node.left)\n",
    "    print(result)\n",
    "\n",
    "\n",
    "search(A, 2)"
   ],
   "id": "21a357050518de07",
   "outputs": [
    {
     "name": "stdout",
     "output_type": "stream",
     "text": [
      "2\n"
     ]
    }
   ],
   "execution_count": 67
  },
  {
   "metadata": {},
   "cell_type": "markdown",
   "source": "INVERT BINARY TREE",
   "id": "62a1c3b2f3cea21e"
  },
  {
   "metadata": {
    "ExecuteTime": {
     "end_time": "2025-03-02T21:21:19.205565Z",
     "start_time": "2025-03-02T21:21:19.202808Z"
    }
   },
   "cell_type": "code",
   "source": [
    "def invert_binary_tree(node):\n",
    "    queue = deque()\n",
    "    queue.append(node)\n",
    "\n",
    "    while queue:\n",
    "        node = queue.popleft()\n",
    "        print(node)\n",
    "        if node.right:\n",
    "            queue.append(node.right)\n",
    "        if node.left:\n",
    "            queue.append(node.left)\n",
    "\n",
    "\n",
    "invert_binary_tree(A)"
   ],
   "id": "7fd17e0f6c22dbe2",
   "outputs": [
    {
     "name": "stdout",
     "output_type": "stream",
     "text": [
      "1\n",
      "3\n",
      "2\n",
      "7\n",
      "6\n",
      "5\n",
      "4\n"
     ]
    }
   ],
   "execution_count": 51
  },
  {
   "metadata": {},
   "cell_type": "markdown",
   "source": "MAX DEPTH",
   "id": "7e45edb921566976"
  },
  {
   "metadata": {
    "ExecuteTime": {
     "end_time": "2025-03-18T07:35:33.208752Z",
     "start_time": "2025-03-18T07:35:33.204734Z"
    }
   },
   "cell_type": "code",
   "source": [
    "# DFS\n",
    "def maxDepth(root: TreeNode) -> int:\n",
    "    stack = [[root, 1]]\n",
    "    result = 0\n",
    "\n",
    "    while stack:\n",
    "        node, depth = stack.pop()\n",
    "        if node:\n",
    "            stack.append([node.left, depth + 1])\n",
    "            stack.append([node.right, depth + 1])\n",
    "            result = max(result, depth)\n",
    "    return result\n",
    "\n",
    "\n",
    "print(\"Depth of the tree:\", maxDepth(A))  # Output: 3\n"
   ],
   "id": "dac4de08274cf8e2",
   "outputs": [
    {
     "name": "stdout",
     "output_type": "stream",
     "text": [
      "Depth of the tree: 3\n"
     ]
    }
   ],
   "execution_count": 69
  },
  {
   "metadata": {
    "ExecuteTime": {
     "end_time": "2025-03-18T08:06:56.515335Z",
     "start_time": "2025-03-18T08:06:56.511007Z"
    }
   },
   "cell_type": "code",
   "source": [
    "# Diameter of a Binary Tree -> Max Height to the left and Max Height to the right\n",
    "def diameter(root: TreeNode) -> int:\n",
    "    result = 0\n",
    "\n",
    "    def dfs(curr):\n",
    "        if not curr:\n",
    "            return 0\n",
    "        left = dfs(curr.left)\n",
    "        right = dfs(curr.right)\n",
    "        nonlocal result\n",
    "        result = max(result, left + right)\n",
    "        return 1 + max(left, right)  # how to calculate the height\n",
    "\n",
    "    dfs(root)\n",
    "    print(result)\n",
    "\n",
    "\n",
    "print(\"Diameter of the tree:\", diameter(A))"
   ],
   "id": "739ad44c518e361e",
   "outputs": [
    {
     "name": "stdout",
     "output_type": "stream",
     "text": [
      "4\n",
      "Diameter of the tree: None\n"
     ]
    }
   ],
   "execution_count": 75
  },
  {
   "metadata": {
    "ExecuteTime": {
     "end_time": "2025-03-18T08:26:42.948600Z",
     "start_time": "2025-03-18T08:26:42.944154Z"
    }
   },
   "cell_type": "code",
   "source": [
    "# Balanced Binary Tree\n",
    "def is_balanced(root: TreeNode) -> bool:\n",
    "    balanced = True\n",
    "\n",
    "    def dfs(curr):\n",
    "        nonlocal balanced\n",
    "        if not curr:\n",
    "            return 0\n",
    "        left = dfs(curr.left)\n",
    "        right = dfs(curr.right)\n",
    "\n",
    "        if abs(left - right) > 1:\n",
    "            balanced = False\n",
    "            return 0\n",
    "\n",
    "        return 1 + max(left, right)\n",
    "\n",
    "    dfs(root)\n",
    "    return balanced\n",
    "\n",
    "\n",
    "print(\"Balanced tree:\", is_balanced(A))\n"
   ],
   "id": "4901e711213a5850",
   "outputs": [
    {
     "name": "stdout",
     "output_type": "stream",
     "text": [
      "Balanced tree: True\n"
     ]
    }
   ],
   "execution_count": 77
  },
  {
   "metadata": {
    "ExecuteTime": {
     "end_time": "2025-03-18T08:45:31.975267Z",
     "start_time": "2025-03-18T08:45:31.969375Z"
    }
   },
   "cell_type": "code",
   "source": [
    "# Same Binary Tree\n",
    "def is_same_tree_bfs(p: TreeNode, q: TreeNode) -> bool:\n",
    "    queue_p = deque()\n",
    "    queue_p.append(p)\n",
    "    queue_q = deque()\n",
    "    queue_q.append(q)\n",
    "\n",
    "    same = True\n",
    "\n",
    "    while queue_q and queue_p:\n",
    "        node_q = queue_q.popleft()\n",
    "        node_p = queue_p.popleft()\n",
    "        if not node_p and not node_q:\n",
    "            continue\n",
    "        if not node_p or not node_q:\n",
    "            return False\n",
    "        if node_q.val != node_p.val:\n",
    "            same = False\n",
    "            break\n",
    "        queue_p.append(node_p.left)\n",
    "        queue_p.append(node_p.right)\n",
    "        queue_q.append(node_q.left)\n",
    "        queue_q.append(node_q.right)\n",
    "    return same\n",
    "\n",
    "\n",
    "def is_same_tree_dfs(p: TreeNode, q: TreeNode) -> bool:\n",
    "    def balanced(p, q):\n",
    "        if p is None and q is None:\n",
    "            return True\n",
    "        if p is None or q is None:\n",
    "            return False\n",
    "        if p.val != q.val:\n",
    "            return False\n",
    "        return balanced(p.right, q.right) and balanced(p.left, q.left)\n",
    "\n",
    "    return balanced(p, q)\n",
    "\n",
    "\n",
    "print(\"Is Same Tree:\", is_same_tree_dfs(A, A))\n"
   ],
   "id": "b5740f96251308d",
   "outputs": [
    {
     "name": "stdout",
     "output_type": "stream",
     "text": [
      "Is Same Tree: True\n"
     ]
    }
   ],
   "execution_count": 82
  },
  {
   "metadata": {
    "ExecuteTime": {
     "end_time": "2025-03-21T08:44:06.169069Z",
     "start_time": "2025-03-21T08:44:06.164088Z"
    }
   },
   "cell_type": "code",
   "source": [
    "# Subtree of another Tree -> check to see if tree is the same and traversing\n",
    "\n",
    "def is_subtree(root: TreeNode, sub_root: TreeNode):\n",
    "    def is_same_tree(root_node: TreeNode, sub_root_node: TreeNode):\n",
    "        if not root_node and not sub_root_node:\n",
    "            return True\n",
    "        if (root_node and not sub_root_node) or (not root_node and sub_root_node):\n",
    "            return False\n",
    "        if root_node.val != sub_root_node.val:\n",
    "            return False\n",
    "\n",
    "        return is_same_tree(root_node.left, sub_root_node.left) and is_same_tree(root_node.right, sub_root_node.right)\n",
    "\n",
    "    def traverse(p: TreeNode):\n",
    "        if not p:\n",
    "            return False\n",
    "        if is_same_tree(p, sub_root_node=sub_root):\n",
    "            return True\n",
    "\n",
    "        return traverse(p.left) or traverse(p.right)\n",
    "\n",
    "    return traverse(root)\n",
    "\n",
    "\n",
    "print(\"Is Sub Tree:\", is_same_tree_dfs(A, B))\n"
   ],
   "id": "4f0021336d426496",
   "outputs": [
    {
     "name": "stdout",
     "output_type": "stream",
     "text": [
      "Is Sub Tree: False\n"
     ]
    }
   ],
   "execution_count": 85
  },
  {
   "metadata": {
    "ExecuteTime": {
     "end_time": "2025-04-01T20:04:49.149557Z",
     "start_time": "2025-04-01T20:04:49.146549Z"
    }
   },
   "cell_type": "code",
   "source": [
    "# Lowest Common Ancestor in Binary Search Tree ->\n",
    "\n",
    "def lowest_common_ancestor(root: TreeNode, p: TreeNode, q: TreeNode) -> TreeNode:\n",
    "    lca = [root]\n",
    "\n",
    "    def search(root):\n",
    "        if not root:\n",
    "            return\n",
    "\n",
    "        lca[0] = root\n",
    "        if p is root or q is root:\n",
    "            return\n",
    "        elif p.val > root.val and q.val > root.val:\n",
    "            search(root.right)\n",
    "        elif p.val < root.val and p.val < root.val:\n",
    "            search(root.left)\n",
    "        else:\n",
    "            return\n",
    "\n",
    "    search(root)\n",
    "    return lca[0]\n"
   ],
   "id": "21d5d44292b8fec5",
   "outputs": [],
   "execution_count": 5
  },
  {
   "metadata": {
    "ExecuteTime": {
     "end_time": "2025-04-01T20:37:09.625324Z",
     "start_time": "2025-04-01T20:37:09.622560Z"
    }
   },
   "cell_type": "code",
   "source": [
    "# Binary Tree Level Order Traversal ->\n",
    "from collections import deque\n",
    "\n",
    "\n",
    "def level_order(root: TreeNode):\n",
    "    q = deque()\n",
    "    q.append(root)\n",
    "    ans = []\n",
    "\n",
    "    while q:\n",
    "        res = []\n",
    "        n = len(q)\n",
    "        for _ in range(n):\n",
    "            node = q.popleft()\n",
    "            if node.left: q.append(node.left)\n",
    "            if node.right: q.append(node.right)\n",
    "\n",
    "            res.append(node.val)\n",
    "        ans.append(res)\n",
    "    return ans\n",
    "\n",
    "\n",
    "level_order(root=A)"
   ],
   "id": "f44ff94cdc14840f",
   "outputs": [
    {
     "data": {
      "text/plain": [
       "[[1], [2, 3], [4, 5, 6, 7]]"
      ]
     },
     "execution_count": 9,
     "metadata": {},
     "output_type": "execute_result"
    }
   ],
   "execution_count": 9
  },
  {
   "metadata": {
    "ExecuteTime": {
     "end_time": "2025-04-01T22:00:12.685727Z",
     "start_time": "2025-04-01T22:00:12.682048Z"
    }
   },
   "cell_type": "code",
   "source": [
    "# Binary Tree Right Side View\n",
    "\n",
    "def right_side_view(root: TreeNode):\n",
    "    q = deque()\n",
    "    q.append(root)\n",
    "    ans = []\n",
    "    while q:\n",
    "        n = len(q)\n",
    "\n",
    "        for i in range(n):\n",
    "            node = q.popleft()\n",
    "            if node:\n",
    "                if i == n - 1:\n",
    "                    ans.append(node.val)\n",
    "                if node.left: q.append(node.left)\n",
    "                if node.right: q.append(node.right)\n",
    "    return ans\n",
    "\n",
    "\n",
    "print(right_side_view(A))"
   ],
   "id": "ac3add1f17fb9a67",
   "outputs": [
    {
     "name": "stdout",
     "output_type": "stream",
     "text": [
      "[1, 3, 7]\n"
     ]
    }
   ],
   "execution_count": 12
  },
  {
   "metadata": {
    "ExecuteTime": {
     "end_time": "2025-04-03T07:09:12.763479Z",
     "start_time": "2025-04-03T07:09:12.754536Z"
    }
   },
   "cell_type": "code",
   "source": [
    "# Count Good Nodes in Binary Tree -> basically good nodes are the ones which have values more than the max seen so far\n",
    "\n",
    "def good_nodes(root: TreeNode):\n",
    "    stk = [(root, float('-inf'))]\n",
    "    good = 0\n",
    "\n",
    "    while stk:\n",
    "        node, largest = stk.pop()\n",
    "\n",
    "        if node.val >= largest:\n",
    "            good += 1\n",
    "        largest = max(largest, node.val)\n",
    "\n",
    "        if node.right: stk.append((node.right, largest))\n",
    "        if node.left: stk.append((node.left, largest))\n",
    "\n",
    "    return good\n",
    "\n",
    "\n",
    "print(good_nodes(A))"
   ],
   "id": "1e0171f4a256ce58",
   "outputs": [
    {
     "name": "stdout",
     "output_type": "stream",
     "text": [
      "7\n"
     ]
    }
   ],
   "execution_count": 13
  },
  {
   "metadata": {},
   "cell_type": "code",
   "outputs": [],
   "execution_count": null,
   "source": [
    "# Is Valid Binary Tree\n",
    "\n",
    "def is_valid_binary_tree(root: TreeNode):\n",
    "    def is_valid(root: TreeNode, minimum: float, maximum: float):\n",
    "        if not root:\n",
    "            return True\n",
    "        if root.val >= maximum or root.val <= minimum:\n",
    "            return False\n",
    "        return is_valid(root.right, root.val, maximum) and is_valid(root.left, minimum, root.val)\n",
    "\n",
    "    return is_valid(root, float(\"-inf\"), float('inf'))\n"
   ],
   "id": "530f43c5bbe8a581"
  },
  {
   "metadata": {
    "ExecuteTime": {
     "end_time": "2025-04-05T12:19:30.645929Z",
     "start_time": "2025-04-05T12:19:30.643173Z"
    }
   },
   "cell_type": "code",
   "source": [
    "# Kth smallest integer in BST\n",
    "\n",
    "def kth_smallest_integer(root: TreeNode, k: int):\n",
    "    result = root.val\n",
    "\n",
    "    def dfs(root: TreeNode):\n",
    "        if not root:\n",
    "            return\n",
    "\n",
    "        dfs(root.left)\n",
    "\n",
    "        nonlocal k\n",
    "        if k == 1:\n",
    "            nonlocal result\n",
    "            result = root.val\n",
    "        k -= 1\n",
    "        if k > 0:\n",
    "            dfs(root.right)\n",
    "\n",
    "    dfs(root)\n",
    "    return result\n",
    "\n",
    "\n",
    "print(kth_smallest_integer(root=A, k=6))\n"
   ],
   "id": "82dd05e7fae5899b",
   "outputs": [
    {
     "name": "stdout",
     "output_type": "stream",
     "text": [
      "3\n"
     ]
    }
   ],
   "execution_count": 23
  },
  {
   "metadata": {
    "ExecuteTime": {
     "end_time": "2025-04-05T13:27:06.950498Z",
     "start_time": "2025-04-05T13:27:06.947410Z"
    }
   },
   "cell_type": "code",
   "source": [
    "# Serialize and Deserialize Binary Tree\n",
    "from typing import Optional\n",
    "\n",
    "class Codec:\n",
    "\n",
    "    def __init__(self):\n",
    "        pass\n",
    "\n",
    "    # Encodes a tree to a single string.\n",
    "    def serialize(self, root: Optional[TreeNode]) -> str:\n",
    "        if not root:\n",
    "            return \"N\"\n",
    "        res = []\n",
    "        queue = deque([root])\n",
    "        while queue:\n",
    "            node = queue.popleft()\n",
    "            if not node:\n",
    "                res.append(\"N\")\n",
    "            else:\n",
    "                res.append(str(node.val))\n",
    "                queue.append(node.left)\n",
    "                queue.append(node.right)\n",
    "        return \",\".join(res)\n",
    "\n",
    "    # Decodes your encoded data to tree.\n",
    "    def deserialize(self, data: str) -> Optional[TreeNode]:\n",
    "        vals = data.split(\",\")\n",
    "        if vals[0] == \"N\":\n",
    "            return None\n",
    "        root = TreeNode(int(vals[0]))\n",
    "        queue = deque([root])\n",
    "        index = 1\n",
    "        while queue:\n",
    "            node = queue.popleft()\n",
    "            if vals[index] != \"N\":\n",
    "                node.left = TreeNode(int(vals[index]))\n",
    "                queue.append(node.left)\n",
    "            index += 1\n",
    "            if vals[index] != \"N\":\n",
    "                node.right = TreeNode(int(vals[index]))\n",
    "                queue.append(node.right)\n",
    "            index += 1\n",
    "        return root\n",
    "\n",
    "c = Codec()\n",
    "se = c.serialize(root=A)\n",
    "print(se)"
   ],
   "id": "491ccd8b25621c87",
   "outputs": [
    {
     "name": "stdout",
     "output_type": "stream",
     "text": [
      "1,2,3,4,5,6,N,N,N,N,N,N,N\n"
     ]
    }
   ],
   "execution_count": 38
  },
  {
   "metadata": {},
   "cell_type": "markdown",
   "source": "",
   "id": "ba7d4e5791558695"
  }
 ],
 "metadata": {
  "kernelspec": {
   "display_name": "Python 3",
   "language": "python",
   "name": "python3"
  },
  "language_info": {
   "codemirror_mode": {
    "name": "ipython",
    "version": 2
   },
   "file_extension": ".py",
   "mimetype": "text/x-python",
   "name": "python",
   "nbconvert_exporter": "python",
   "pygments_lexer": "ipython2",
   "version": "2.7.6"
  }
 },
 "nbformat": 4,
 "nbformat_minor": 5
}
