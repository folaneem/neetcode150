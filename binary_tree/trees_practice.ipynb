{
 "cells": [
  {
   "cell_type": "code",
   "id": "initial_id",
   "metadata": {
    "collapsed": true,
    "ExecuteTime": {
     "end_time": "2025-03-02T14:00:53.089001Z",
     "start_time": "2025-03-02T14:00:53.085891Z"
    }
   },
   "source": [
    "class TreeNode:\n",
    "    def __init__(self, val=0, left=None, right=None):\n",
    "        self.val = val\n",
    "        self.left = left\n",
    "        self.right = right\n",
    "\n",
    "    def __str__(self):\n",
    "        return str(self.val)\n",
    "\n",
    "    def __repr__(self):\n",
    "        return f\"TreeNode(val={self.val}, left={self.left}, right={self.right})\""
   ],
   "outputs": [],
   "execution_count": 32
  },
  {
   "metadata": {
    "ExecuteTime": {
     "end_time": "2025-03-02T21:18:28.464193Z",
     "start_time": "2025-03-02T21:18:28.461528Z"
    }
   },
   "cell_type": "code",
   "source": [
    "A = TreeNode(1)\n",
    "B = TreeNode(2)\n",
    "C = TreeNode(3)\n",
    "D = TreeNode(4)\n",
    "E = TreeNode(5)\n",
    "F = TreeNode(6)\n",
    "G = TreeNode(7)\n",
    "H = TreeNode(8)"
   ],
   "id": "ae399da6c6393467",
   "outputs": [],
   "execution_count": 48
  },
  {
   "metadata": {
    "ExecuteTime": {
     "end_time": "2025-03-02T21:19:04.956345Z",
     "start_time": "2025-03-02T21:19:04.953683Z"
    }
   },
   "cell_type": "code",
   "source": [
    "A.left = B\n",
    "A.right = C\n",
    "B.left = D\n",
    "B.right = E\n",
    "C.left = F\n",
    "C.right = G\n",
    "print(A)"
   ],
   "id": "c95ff5527520bf7a",
   "outputs": [
    {
     "name": "stdout",
     "output_type": "stream",
     "text": [
      "1\n"
     ]
    }
   ],
   "execution_count": 49
  },
  {
   "metadata": {
    "ExecuteTime": {
     "end_time": "2025-03-02T20:55:53.052468Z",
     "start_time": "2025-03-02T20:55:53.049845Z"
    }
   },
   "cell_type": "code",
   "source": [
    "# DFS\n",
    "def pre_order_iterative(node):\n",
    "    stack = [node]\n",
    "    while stack:\n",
    "        node = stack.pop()\n",
    "        if node.right:\n",
    "            stack.append(node.right)\n",
    "        print(node)\n",
    "        if node.left:\n",
    "            stack.append(node.left)\n",
    "\n",
    "pre_order_iterative(A)"
   ],
   "id": "17afa4ed860873f8",
   "outputs": [
    {
     "name": "stdout",
     "output_type": "stream",
     "text": [
      "1\n",
      "2\n",
      "4\n",
      "5\n",
      "3\n",
      "10\n"
     ]
    }
   ],
   "execution_count": 37
  },
  {
   "metadata": {
    "ExecuteTime": {
     "end_time": "2025-03-02T21:02:22.495420Z",
     "start_time": "2025-03-02T21:02:22.492069Z"
    }
   },
   "cell_type": "code",
   "source": [
    "# BFS queue\n",
    "from collections import deque\n",
    "def pre_order_iterative_bfs(node):\n",
    "    queue = deque()\n",
    "    queue.append(node)\n",
    "    while queue:\n",
    "        node = queue.popleft()\n",
    "        print(node)\n",
    "        if node.left:\n",
    "            queue.append(node.left)\n",
    "        if node.right:\n",
    "            queue.append(node.right)\n",
    "pre_order_iterative_bfs(A)"
   ],
   "id": "13cae6a781b5a9d3",
   "outputs": [
    {
     "name": "stdout",
     "output_type": "stream",
     "text": [
      "1\n",
      "2\n",
      "3\n",
      "4\n",
      "5\n",
      "10\n"
     ]
    }
   ],
   "execution_count": 42
  },
  {
   "metadata": {
    "ExecuteTime": {
     "end_time": "2025-03-02T21:05:55.232192Z",
     "start_time": "2025-03-02T21:05:55.228548Z"
    }
   },
   "cell_type": "code",
   "source": [
    "def search(node, target):\n",
    "    stack = [node]\n",
    "    result = None\n",
    "    while stack:\n",
    "        node = stack.pop()\n",
    "        if node.val == target:\n",
    "            result = node\n",
    "        if node.right:\n",
    "            stack.append(node.right)\n",
    "        if node.left:\n",
    "            stack.append(node.left)\n",
    "    print(result)\n",
    "search(A, 2)"
   ],
   "id": "21a357050518de07",
   "outputs": [
    {
     "name": "stdout",
     "output_type": "stream",
     "text": [
      "2\n"
     ]
    }
   ],
   "execution_count": 44
  },
  {
   "metadata": {},
   "cell_type": "markdown",
   "source": "INVERT BINARY TREE",
   "id": "62a1c3b2f3cea21e"
  },
  {
   "metadata": {
    "ExecuteTime": {
     "end_time": "2025-03-02T21:21:19.205565Z",
     "start_time": "2025-03-02T21:21:19.202808Z"
    }
   },
   "cell_type": "code",
   "source": [
    "def invert_binary_tree(node):\n",
    "    queue = deque()\n",
    "    queue.append(node)\n",
    "\n",
    "    while queue:\n",
    "        node = queue.popleft()\n",
    "        print(node)\n",
    "        if node.right:\n",
    "            queue.append(node.right)\n",
    "        if node.left:\n",
    "            queue.append(node.left)\n",
    "invert_binary_tree(A)"
   ],
   "id": "7fd17e0f6c22dbe2",
   "outputs": [
    {
     "name": "stdout",
     "output_type": "stream",
     "text": [
      "1\n",
      "3\n",
      "2\n",
      "7\n",
      "6\n",
      "5\n",
      "4\n"
     ]
    }
   ],
   "execution_count": 51
  },
  {
   "metadata": {},
   "cell_type": "markdown",
   "source": "MAX DEPTH",
   "id": "7e45edb921566976"
  },
  {
   "metadata": {
    "ExecuteTime": {
     "end_time": "2025-03-02T21:44:06.680297Z",
     "start_time": "2025-03-02T21:44:06.674662Z"
    }
   },
   "cell_type": "code",
   "source": [
    "def maxDepth(root: TreeNode) -> int:\n",
    "    queue = deque()\n",
    "    queue.append(root)\n",
    "\n",
    "    depth = 0\n",
    "\n",
    "    while queue:\n",
    "        for _ in range(len(queue)):\n",
    "            node = queue.popleft()\n",
    "            if node.left:\n",
    "                queue.append(node.left)\n",
    "            if node.right:\n",
    "                queue.append(node.right)\n",
    "        depth += 1\n",
    "    return depth\n",
    "\n",
    "print(\"Depth of the tree:\", maxDepth(A))  # Output: 3\n"
   ],
   "id": "dac4de08274cf8e2",
   "outputs": [
    {
     "name": "stdout",
     "output_type": "stream",
     "text": [
      "Depth of the tree: 3\n"
     ]
    }
   ],
   "execution_count": 61
  },
  {
   "metadata": {},
   "cell_type": "markdown",
   "source": "",
   "id": "6adf668279e768ef"
  },
  {
   "metadata": {},
   "cell_type": "markdown",
   "source": "",
   "id": "ba7d4e5791558695"
  }
 ],
 "metadata": {
  "kernelspec": {
   "display_name": "Python 3",
   "language": "python",
   "name": "python3"
  },
  "language_info": {
   "codemirror_mode": {
    "name": "ipython",
    "version": 2
   },
   "file_extension": ".py",
   "mimetype": "text/x-python",
   "name": "python",
   "nbconvert_exporter": "python",
   "pygments_lexer": "ipython2",
   "version": "2.7.6"
  }
 },
 "nbformat": 4,
 "nbformat_minor": 5
}
