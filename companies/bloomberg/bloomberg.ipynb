{
 "cells": [
  {
   "cell_type": "code",
   "id": "initial_id",
   "metadata": {
    "collapsed": true,
    "ExecuteTime": {
     "end_time": "2025-05-01T18:04:52.036308Z",
     "start_time": "2025-05-01T18:04:52.033700Z"
    }
   },
   "source": [
    "from collections import defaultdict\n",
    "from time import sleep\n",
    "# Word Search\n",
    "from typing import List\n",
    "\n",
    "from linked_list.reverse_linked_list import result\n",
    "from linked_list.utils import ListNode, print_linked_list, create_linked_list\n",
    "from stack.minimum_stack import MinStack\n",
    "\n",
    "\n",
    "def word_search(board: List[List[str]], word: str) -> bool:\n",
    "    rows, cols = len(board), len(board[0])\n",
    "\n",
    "    word_size = len(word)\n",
    "\n",
    "    def backtrack(i, j, index):\n",
    "        cell = board[i][j]\n",
    "        if cell != word[index]:\n",
    "            return False\n",
    "        if word_size - 1 == index:\n",
    "            return True\n",
    "\n",
    "        board[i][j] = \"Do not visit again\"\n",
    "        for i_off, j_off in [(0, -1), (-1, 0), (1, 0), (0, 1)]:\n",
    "            updated_i, updated_j = i + i_off, j + j_off\n",
    "            if backtrack(updated_i, updated_j, index + 1):\n",
    "                return True\n",
    "\n",
    "        board[i][j] = cell\n",
    "\n",
    "        return False\n",
    "\n",
    "    for i in range(rows):\n",
    "        for j in range(cols):\n",
    "            if backtrack(i, j, 0):\n",
    "                return True\n",
    "\n",
    "    return False\n",
    "\n",
    "\n",
    "print(word_search(board=[[\"A\", \"B\", \"C\", \"E\"], [\"S\", \"F\", \"C\", \"S\"], [\"A\", \"D\", \"E\", \"E\"]], word=\"ABCCED\"))"
   ],
   "outputs": [
    {
     "name": "stdout",
     "output_type": "stream",
     "text": [
      "None\n"
     ]
    }
   ],
   "execution_count": 160
  },
  {
   "metadata": {
    "ExecuteTime": {
     "end_time": "2025-04-21T02:51:23.731511Z",
     "start_time": "2025-04-21T02:51:23.728824Z"
    }
   },
   "cell_type": "code",
   "source": [
    "# Two Sums\n",
    "\n",
    "# Brute Force\n",
    "\n",
    "def two_sums_bf(nums, target):\n",
    "    size = len(nums)\n",
    "    for fi in range(0, size):\n",
    "        for si in range(fi + 1, size):\n",
    "            first_word = nums[fi]\n",
    "            second_word = nums[si]\n",
    "            if first_word + second_word == target:\n",
    "                return [fi, si]\n",
    "    return None\n",
    "\n",
    "\n",
    "def two_sums_opt(nums, target):\n",
    "    storage = {}\n",
    "    result = []\n",
    "    for index, num in enumerate(nums):\n",
    "        if num in storage:\n",
    "            result.append(storage.get(num))\n",
    "            result.append(index)\n",
    "        else:\n",
    "            diff = target - num\n",
    "            storage[diff] = index\n",
    "    return result\n",
    "\n",
    "\n",
    "print(two_sums_opt(nums=[5, 2, 3, 4, 4, 19, 10, 8, 9], target=29))\n"
   ],
   "id": "f96e3bd74c9f75a",
   "outputs": [
    {
     "name": "stdout",
     "output_type": "stream",
     "text": [
      "[5, 6]\n"
     ]
    }
   ],
   "execution_count": 45
  },
  {
   "metadata": {
    "ExecuteTime": {
     "end_time": "2025-04-20T10:40:30.561142Z",
     "start_time": "2025-04-20T10:40:30.556749Z"
    }
   },
   "cell_type": "code",
   "source": [
    "# Number of Islands\n",
    "\n",
    "def number_of_islands(grid):\n",
    "    rows, cols = len(grid), len(grid[0])\n",
    "\n",
    "    def dfs(i, j):\n",
    "        stk = [(i, j)]\n",
    "\n",
    "        while stk:\n",
    "            x, y = stk.pop()\n",
    "            if x < rows and x >= 0 and y < cols and y >= 0 and grid[x][y] == \"1\":\n",
    "                grid[x][y] = \"0\"\n",
    "                for i_delta, j_delta in [(0, 1), (1, 0), (-1, 0), (0, -1)]:\n",
    "                    r, c = x + i_delta, y + j_delta\n",
    "                    stk.append((r, c))\n",
    "\n",
    "    count = 0\n",
    "    for i in range(rows):\n",
    "        for j in range(cols):\n",
    "            if grid[i][j] == \"1\":\n",
    "                count += 1\n",
    "                dfs(i, j)\n",
    "\n",
    "    return count\n",
    "\n",
    "\n",
    "print(number_of_islands(grid=[\n",
    "    [\"1\", \"1\", \"1\", \"1\", \"0\"],\n",
    "    [\"1\", \"1\", \"0\", \"1\", \"0\"],\n",
    "    [\"1\", \"1\", \"0\", \"0\", \"0\"],\n",
    "    [\"0\", \"0\", \"0\", \"0\", \"0\"]\n",
    "]))"
   ],
   "id": "e735fb39a3e9be01",
   "outputs": [
    {
     "name": "stdout",
     "output_type": "stream",
     "text": [
      "1\n"
     ]
    }
   ],
   "execution_count": 17
  },
  {
   "metadata": {
    "ExecuteTime": {
     "end_time": "2025-04-21T02:50:27.432171Z",
     "start_time": "2025-04-21T02:49:52.422118Z"
    }
   },
   "cell_type": "code",
   "source": [
    "# Valid Parenthesis\n",
    "\n",
    "def is_valid_parenthesis(s):\n",
    "    close_open = {')': '(', '}': '{', ']': '['}\n",
    "    stk = []\n",
    "\n",
    "    for index, item in enumerate(s):\n",
    "        if item in close_open and stk:\n",
    "            if close_open.get(item) == stk[-1]:\n",
    "                stk.pop()\n",
    "            else:\n",
    "                return False\n",
    "        else:\n",
    "            stk.append(item)\n",
    "    if len(stk) == 0:\n",
    "        return True\n",
    "    else:\n",
    "        return False\n",
    "\n",
    "\n",
    "print(is_valid_parenthesis(s=\"({[]})\"))"
   ],
   "id": "26070375fb82e0cc",
   "outputs": [
    {
     "name": "stdout",
     "output_type": "stream",
     "text": [
      "True\n"
     ]
    }
   ],
   "execution_count": 44
  },
  {
   "metadata": {
    "ExecuteTime": {
     "end_time": "2025-04-21T04:15:22.715084Z",
     "start_time": "2025-04-21T04:15:22.710875Z"
    }
   },
   "cell_type": "code",
   "source": [
    "from collections import OrderedDict\n",
    "\n",
    "\n",
    "class LRUCache:\n",
    "\n",
    "    def __init__(self, capacity: int):\n",
    "        self.capacity = capacity\n",
    "        self.cache = OrderedDict()\n",
    "\n",
    "    def get(self, key: int) -> int:\n",
    "        if key not in self.cache:\n",
    "            return -1\n",
    "        self.cache.move_to_end(key, last=True)\n",
    "        return self.cache.get(key)\n",
    "\n",
    "    def put(self, key: int, value: int) -> None:\n",
    "        if len(self.cache) >= self.capacity:\n",
    "            self.cache.popitem(last=False)\n",
    "        self.cache[key] = value\n",
    "\n",
    "\n",
    "lRUCache = LRUCache(2)\n",
    "lRUCache.put(1, 1)  # cache is {1=1}\n",
    "lRUCache.put(2, 2)  #  cache is {1=1, 2=2}\n",
    "print(lRUCache.get(1))  #  return 1\n",
    "lRUCache.put(3, 3)  #  LRU key was 2, evicts key 2, cache is {1=1, 3=3}\n",
    "print(lRUCache.get(2))  #  returns -1 (not found)\n",
    "lRUCache.put(4, 4)  #  LRU key was 1, evicts key 1, cache is {4=4, 3=3}\n",
    "print(lRUCache.get(1))  #  return -1 (not found)\n",
    "print(lRUCache.get(3))  #  return 3\n",
    "print(lRUCache.get(4))  #  return 4"
   ],
   "id": "e7bd5e31e1b1381e",
   "outputs": [
    {
     "name": "stdout",
     "output_type": "stream",
     "text": [
      "1\n",
      "-1\n",
      "-1\n",
      "3\n",
      "4\n"
     ]
    }
   ],
   "execution_count": 53
  },
  {
   "metadata": {
    "ExecuteTime": {
     "end_time": "2025-04-21T15:11:12.178479Z",
     "start_time": "2025-04-21T15:11:12.172409Z"
    }
   },
   "cell_type": "code",
   "source": [
    "from collections import defaultdict\n",
    "\n",
    "\n",
    "class LFUCache:\n",
    "    def __init__(self, capacity: int):\n",
    "        self.capacity = capacity\n",
    "        self.cache = OrderedDict()\n",
    "        self.freq_map = defaultdict(list)\n",
    "        self.min_freq = 0\n",
    "\n",
    "    def get(self, key):\n",
    "        if key not in self.cache:\n",
    "            return -1\n",
    "\n",
    "        value, _ = self.cache[key]\n",
    "        self._updated_frequency(key=key)\n",
    "        return value\n",
    "\n",
    "    def put(self, key, value):\n",
    "        if key in self.cache:\n",
    "            _, freq = self.cache[key]\n",
    "            self.cache[key] = [value, freq]\n",
    "            self._updated_frequency(key=key)\n",
    "        else:\n",
    "            if len(self.cache) >= self.capacity:\n",
    "                lfu_key = self.freq_map[self.min_freq].pop(0)\n",
    "                if not self.freq_map[self.min_freq]:  # If no keys remain at this frequency\n",
    "                    del self.freq_map[self.min_freq]\n",
    "                del self.cache[lfu_key]\n",
    "            self.cache[key] = [value, 1]\n",
    "            self.freq_map[1].append(key)\n",
    "            self.min_freq = 1\n",
    "\n",
    "    def _updated_frequency(self, key):\n",
    "        value, freq = self.cache[key]\n",
    "\n",
    "        # Remove\n",
    "        self.freq_map[freq].remove(key)\n",
    "        if not self.freq_map[freq]:\n",
    "            del self.freq_map[freq]\n",
    "            if self.min_freq == freq:\n",
    "                self.min_freq += 1\n",
    "\n",
    "        # Increment\n",
    "        new_freq = freq + 1\n",
    "        self.freq_map[new_freq].append(key)\n",
    "        self.cache[key] = [value, new_freq]\n",
    "\n",
    "\n",
    "# Example usage\n",
    "lfuCache = LFUCache(2)\n",
    "lfuCache.put(1, 1)  # Cache is {1: 1}, frequency is {1: [1]}\n",
    "lfuCache.put(2, 2)  # Cache is {1: 1, 2: 2}, frequency is {1: [1, 2]}\n",
    "print(lfuCache.get(1))  # Return 1, Cache is {1: 1, 2: 2}, frequency is {1: [2], 2: [1]}\n",
    "lfuCache.put(3, 3)  # Evicts key 2 (LFU), Cache is {1: 1, 3: 3}, frequency is {1: [3], 2: [1]}\n",
    "print(lfuCache.get(2))  # Return -1 (not found)\n",
    "print(lfuCache.get(3))  # Return 3, Cache is {1: 1, 3: 3}, frequency is {2: [1, 3]}\n",
    "lfuCache.put(4, 4)  # Evicts key 1 (LFU), Cache is {4: 4, 3: 3}, frequency is {1: [4], 2: [3]}\n",
    "print(lfuCache.get(1))  # Return -1 (not found)\n",
    "print(lfuCache.get(3))  # Return 3, Cache is {4: 4, 3: 3}, frequency is {1: [4], 3: [3]}\n",
    "print(lfuCache.get(4))  # Return 4, Cache is {4: 4, 3: 3}, frequency is {2: [4], 3: [3]}\n"
   ],
   "id": "5ba7952018b26233",
   "outputs": [
    {
     "name": "stdout",
     "output_type": "stream",
     "text": [
      "1\n",
      "-1\n",
      "3\n",
      "-1\n",
      "3\n",
      "4\n"
     ]
    }
   ],
   "execution_count": 57
  },
  {
   "metadata": {
    "ExecuteTime": {
     "end_time": "2025-04-21T16:20:12.610973Z",
     "start_time": "2025-04-21T16:20:12.608377Z"
    }
   },
   "cell_type": "code",
   "source": [
    "# Merge two sorted lists\n",
    "from typing import Optional\n",
    "\n",
    "\n",
    "def mergeTwoLists(list1: Optional[ListNode], list2: Optional[ListNode]) -> Optional[ListNode]:\n",
    "    dummy = ListNode()\n",
    "    curr = dummy\n",
    "\n",
    "    while list1 and list2:\n",
    "        if list2.value > list1.value:\n",
    "            curr.next = list1\n",
    "            list1 = list1.next\n",
    "        else:\n",
    "            curr.next = list2\n",
    "            list2 = list2.next\n",
    "        curr = curr.next\n",
    "\n",
    "    if list2:\n",
    "        curr.next = list2\n",
    "    elif list1:\n",
    "        curr.next = list1\n",
    "    return dummy.next\n",
    "\n",
    "\n",
    "l1 = create_linked_list([1, 3, 5, 7, 50, 100])\n",
    "l2 = create_linked_list([2, 4, 6, 8])\n",
    "\n",
    "print_linked_list(l1)\n",
    "print_linked_list(l2)\n",
    "\n",
    "merged = mergeTwoLists(l1, l2)\n",
    "print_linked_list(merged)"
   ],
   "id": "3314573ad2dd91ca",
   "outputs": [
    {
     "name": "stdout",
     "output_type": "stream",
     "text": [
      "1 -> 3 -> 5 -> 7 -> 50 -> 100\n",
      "2 -> 4 -> 6 -> 8\n",
      "1 -> 2 -> 3 -> 4 -> 5 -> 6 -> 7 -> 8 -> 50 -> 100\n"
     ]
    }
   ],
   "execution_count": 85
  },
  {
   "metadata": {},
   "cell_type": "code",
   "outputs": [],
   "execution_count": null,
   "source": [
    "# Reverse a linked list\n",
    "\n",
    "def reverseList(head: Optional[ListNode]) -> Optional[ListNode]:\n",
    "    curr = head\n",
    "    prev = None\n",
    "    while curr:\n",
    "        next = curr.next\n",
    "        curr.next = prev\n",
    "        prev = curr\n",
    "        curr = next\n",
    "\n",
    "    return prev\n"
   ],
   "id": "e1f215d1b0105607"
  },
  {
   "metadata": {
    "ExecuteTime": {
     "end_time": "2025-04-21T17:24:28.323872Z",
     "start_time": "2025-04-21T17:24:28.319261Z"
    }
   },
   "cell_type": "code",
   "source": [
    "# All path from source to target\n",
    "\n",
    "def allPathsSourceTarget(graph: List[List[int]]) -> List[List[int]]:\n",
    "    graph_representation = {}\n",
    "    for index, value in enumerate(graph):\n",
    "        graph_representation[index] = value\n",
    "    target = len(graph) - 1\n",
    "    stk = []\n",
    "    stk.append((0, [0]))\n",
    "    result = []\n",
    "    while stk:\n",
    "        node, path = stk.pop()\n",
    "        if path[-1] == target:\n",
    "            result.append(path)\n",
    "            continue\n",
    "        if node in graph_representation:\n",
    "            nei = graph_representation.get(node)\n",
    "            for i in nei:\n",
    "                updated_path = path[::]\n",
    "                updated_path.append(i)\n",
    "                stk.append((i, updated_path))\n",
    "    return result\n",
    "\n",
    "\n",
    "# print(allPathsSourceTarget(graph=[[1, 2], [3], [3], []]))\n",
    "print(allPathsSourceTarget(graph=[[4, 3, 1], [3, 2, 4], [3], [4], []]))\n",
    "\n"
   ],
   "id": "865f0edf7b65976c",
   "outputs": [
    {
     "name": "stdout",
     "output_type": "stream",
     "text": [
      "{0: [4, 3, 1], 1: [3, 2, 4], 2: [3], 3: [4], 4: []}\n",
      "[[0, 1, 4], [0, 1, 2, 3, 4], [0, 1, 3, 4], [0, 3, 4], [0, 4]]\n"
     ]
    }
   ],
   "execution_count": 103
  },
  {
   "metadata": {
    "ExecuteTime": {
     "end_time": "2025-04-21T17:40:06.491452Z",
     "start_time": "2025-04-21T17:40:06.489057Z"
    }
   },
   "cell_type": "code",
   "source": [
    "# Add Digit\n",
    "def addDigits(num: int) -> int:\n",
    "    if num == 0:\n",
    "        return 0\n",
    "    elif num % 9 == 0:\n",
    "        return 9\n",
    "    else:\n",
    "        return num % 9"
   ],
   "id": "5b6583bb8aac3c7d",
   "outputs": [],
   "execution_count": 105
  },
  {
   "metadata": {
    "ExecuteTime": {
     "end_time": "2025-04-21T21:39:08.354931Z",
     "start_time": "2025-04-21T21:39:08.350456Z"
    }
   },
   "cell_type": "code",
   "source": [
    "# 4 SUM\n",
    "\n",
    "def four_sum(nums, target):\n",
    "    nums.sort()\n",
    "    size = len(nums)\n",
    "    result = []\n",
    "    for index1 in range(size):\n",
    "        if index1 > 0 and nums[index1] == nums[index1 - 1]:\n",
    "            continue\n",
    "        for index2 in range(index1 + 1, size):\n",
    "            if index2 > index1 + 1 and nums[index2] == nums[index2 - 1]:\n",
    "                continue\n",
    "\n",
    "            remainder = nums[index1] + nums[index2]\n",
    "\n",
    "            left = index2 + 1\n",
    "            right = size - 1\n",
    "\n",
    "            while right > left:\n",
    "                total = remainder + nums[left] + nums[right]\n",
    "                if total == target:\n",
    "                    result.append([nums[index1], nums[index2], nums[left], nums[right]])\n",
    "\n",
    "                    left, right = left + 1, right - 1\n",
    "\n",
    "                    while right > left and nums[left] == nums[left - 1]:\n",
    "                        left += 1\n",
    "\n",
    "                    while right > left and nums[right] == nums[right + 1]:\n",
    "                        right -= 1\n",
    "\n",
    "                elif total > target:\n",
    "                    right -= 1\n",
    "                else:\n",
    "                    left += 1\n",
    "    return result"
   ],
   "id": "df85780805dc0518",
   "outputs": [],
   "execution_count": 106
  },
  {
   "metadata": {
    "ExecuteTime": {
     "end_time": "2025-04-23T06:47:30.300740Z",
     "start_time": "2025-04-23T06:47:30.296518Z"
    }
   },
   "cell_type": "code",
   "source": [
    "# MinStack\n",
    "\n",
    "class MinStack(object):\n",
    "\n",
    "    def __init__(self):\n",
    "        self.stack = []\n",
    "        self.min_stack = []\n",
    "\n",
    "    def push(self, val):\n",
    "        \"\"\"\n",
    "        :type val: int\n",
    "        :rtype: None\n",
    "        \"\"\"\n",
    "        self.stack.append(val)\n",
    "        if self.min_stack:\n",
    "            if self.min_stack[-1] >= val:\n",
    "                self.min_stack.append(val)\n",
    "            else:\n",
    "                self.min_stack.append(self.min_stack[-1])\n",
    "        else:\n",
    "            self.min_stack.append(val)\n",
    "\n",
    "    def pop(self):\n",
    "        \"\"\"\n",
    "        :rtype: None\n",
    "        \"\"\"\n",
    "        self.stack.pop()\n",
    "        self.min_stack.pop()\n",
    "\n",
    "    def top(self):\n",
    "        \"\"\"\n",
    "        :rtype: int\n",
    "        \"\"\"\n",
    "        return self.stack[-1]\n",
    "\n",
    "    def getMin(self):\n",
    "        \"\"\"\n",
    "        :rtype: int\n",
    "        \"\"\"\n",
    "        return self.min_stack[-1]"
   ],
   "id": "364adb3db74754b6",
   "outputs": [],
   "execution_count": 107
  },
  {
   "metadata": {},
   "cell_type": "code",
   "outputs": [],
   "execution_count": null,
   "source": [
    "# Two City Scheduling\n",
    "\n",
    "def twoCitySchedCost(costs: List[List[int]]) -> int:\n",
    "    costs.sort(key=lambda x: x[0] - x[1])\n",
    "    size = len(costs)\n",
    "    mid = size // 2\n",
    "\n",
    "    total_cost = 0\n",
    "    for i in range(mid):\n",
    "        total_cost += i[0][0]\n",
    "\n",
    "    for j in range(mid, mid * 2):\n",
    "        total_cost += j[0][1]\n",
    "\n",
    "    return total_cost\n",
    "\n",
    "\n"
   ],
   "id": "c3909e505aa0453e"
  },
  {
   "metadata": {
    "ExecuteTime": {
     "end_time": "2025-04-25T20:48:13.230038Z",
     "start_time": "2025-04-25T20:48:13.224368Z"
    }
   },
   "cell_type": "code",
   "source": [
    "# Course Schedule II\n",
    "\n",
    "# Python\n",
    "from collections import defaultdict\n",
    "from typing import List\n",
    "\n",
    "\n",
    "def findOrder(numCourses: int, prerequisites: List[List[int]]) -> List[int]:\n",
    "    graph = defaultdict(list)\n",
    "    # Build the graph: edge from prerequisite to course.\n",
    "    for course, prereq in prerequisites:\n",
    "        graph[prereq].append(course)\n",
    "\n",
    "    # State: 0 = unvisited, 1 = visiting, 2 = visited.\n",
    "    state = [0] * numCourses\n",
    "    order = []\n",
    "    UNVISITED, VISITING, VISITED = 0, 1, 2\n",
    "\n",
    "    def dfs(node: int) -> bool:\n",
    "        if state[node] == VISITING:\n",
    "            return False\n",
    "        if state[node] == VISITED:\n",
    "            return True\n",
    "        state[node] = VISITING\n",
    "        for neighbor in graph[node]:\n",
    "            if not dfs(neighbor):\n",
    "                return False\n",
    "        state[node] = VISITED\n",
    "        order.append(node)\n",
    "        return True\n",
    "\n",
    "    # Visit every course.\n",
    "    for course in range(numCourses):\n",
    "        if state[course] == UNVISITED:\n",
    "            if not dfs(course):\n",
    "                return []\n",
    "    # Reverse order to get a valid topological order.\n",
    "    return order[::-1]\n",
    "\n",
    "\n",
    "print(findOrder(numCourses=4, prerequisites=[[1, 0], [2, 0], [3, 1], [3, 2]]))"
   ],
   "id": "fb1d00cf3fcd1df8",
   "outputs": [
    {
     "name": "stdout",
     "output_type": "stream",
     "text": [
      "[0, 1, 2, 3]\n"
     ]
    }
   ],
   "execution_count": 117
  },
  {
   "metadata": {
    "ExecuteTime": {
     "end_time": "2025-04-26T09:14:10.632447Z",
     "start_time": "2025-04-26T09:14:10.627282Z"
    }
   },
   "cell_type": "code",
   "source": [
    "# Longest Consecutive Sequence\n",
    "\n",
    "def longestConsecutive(nums):\n",
    "    unique_nums = set(nums)\n",
    "\n",
    "    result = 0\n",
    "\n",
    "    for num in unique_nums:\n",
    "        if num - 1 not in unique_nums:\n",
    "            l = 0\n",
    "            next_num = num\n",
    "            while next_num in unique_nums:\n",
    "                l += 1\n",
    "                next_num += 1\n",
    "            result = max(result, l)\n",
    "    return result\n",
    "\n",
    "\n",
    "nums = [2, 20, 21, 22, 4, 10, 3, 4, 5, 23, 24, 25, 26, 27, 28, ]\n",
    "print(longestConsecutive(nums=nums))"
   ],
   "id": "55b513a86d7248bb",
   "outputs": [
    {
     "name": "stdout",
     "output_type": "stream",
     "text": [
      "9\n"
     ]
    }
   ],
   "execution_count": 128
  },
  {
   "metadata": {
    "ExecuteTime": {
     "end_time": "2025-04-26T10:30:20.383431Z",
     "start_time": "2025-04-26T10:30:20.378514Z"
    }
   },
   "cell_type": "code",
   "source": [
    "# Add Two Numbers\n",
    "\n",
    "def addTwoNumbers(l1: Optional[ListNode], l2: Optional[ListNode]) -> Optional[ListNode]:\n",
    "    dummy = ListNode()\n",
    "    curr = dummy\n",
    "    carry = 0\n",
    "    r1 = l1\n",
    "    r2 = l2\n",
    "    while r2 or r1:\n",
    "        summed_up = 0\n",
    "        if r2 and r1:\n",
    "            addition = r1.value + r2.value + carry\n",
    "            carry = addition // 10\n",
    "            summed_up = addition % 10\n",
    "        elif r2 and not r1:\n",
    "            addition = r2.value + carry\n",
    "            carry = addition // 10\n",
    "            summed_up = addition % 10\n",
    "        elif r1 and not r2:\n",
    "            addition = r1.value + carry\n",
    "            carry = addition // 10\n",
    "            summed_up = addition % 10\n",
    "        r1 = r1.next if r1 else None\n",
    "        r2 = r2.next if r2 else None\n",
    "        curr.next = ListNode(value=summed_up)\n",
    "        curr = curr.next\n",
    "\n",
    "    if carry != 0:\n",
    "        curr.next = ListNode(value=carry)\n",
    "    return dummy.next\n",
    "\n",
    "\n",
    "def reverse(l: Optional[ListNode]):\n",
    "    prev, curr = None, l\n",
    "\n",
    "    while curr:\n",
    "        next = curr.next\n",
    "        curr.next = prev\n",
    "        prev = curr\n",
    "        curr = next\n",
    "\n",
    "    return prev\n",
    "\n",
    "\n",
    "l1 = create_linked_list([2, 4, 3, 3])\n",
    "l2 = create_linked_list([5, 6, 4])\n",
    "\n",
    "print(\"List 1:\")\n",
    "print_linked_list(l1)\n",
    "print(\"List 2:\")\n",
    "print_linked_list(l2)\n",
    "\n",
    "result = addTwoNumbers(l1, l2)\n",
    "print(\"Resultant List:\")\n",
    "print_linked_list(result)"
   ],
   "id": "7f4a26ce4cb8ecc5",
   "outputs": [
    {
     "name": "stdout",
     "output_type": "stream",
     "text": [
      "List 1:\n",
      "2 -> 4 -> 3 -> 3\n",
      "List 2:\n",
      "5 -> 6 -> 4\n",
      "7 -> 9 -> 9 -> 2\n",
      "Resultant List:\n",
      "\n"
     ]
    }
   ],
   "execution_count": 143
  },
  {
   "metadata": {
    "ExecuteTime": {
     "end_time": "2025-04-26T11:45:43.560665Z",
     "start_time": "2025-04-26T11:45:43.557753Z"
    }
   },
   "cell_type": "code",
   "source": [
    "# Minimum Remove to Make Valid Parentheses\n",
    "\n",
    "def minRemovalToMakeValidParentheses(s):\n",
    "    stk = []\n",
    "    bad_indices = set()\n",
    "    for index, char in enumerate(s):\n",
    "        if char == \"(\":\n",
    "            stk.append((index, char))\n",
    "        elif char == \")\":\n",
    "            if len(stk) > 0 and stk[-1][1] == \"(\":\n",
    "                stk.pop()\n",
    "            else:\n",
    "                bad_indices.add(index)\n",
    "\n",
    "    for item, _ in stk:\n",
    "        bad_indices.add(item)\n",
    "\n",
    "    result = []\n",
    "    for index, item in enumerate(s):\n",
    "        if index not in bad_indices:\n",
    "            result.append(item)\n",
    "\n",
    "    return \"\".join(result)\n",
    "\n",
    "\n",
    "print(minRemovalToMakeValidParentheses(s=\"lee(t(c)o)de)\"))"
   ],
   "id": "a76abbf5c42afdbb",
   "outputs": [
    {
     "name": "stdout",
     "output_type": "stream",
     "text": [
      "lee(t(c)o)de\n"
     ]
    }
   ],
   "execution_count": 155
  },
  {
   "metadata": {},
   "cell_type": "code",
   "outputs": [],
   "execution_count": null,
   "source": [
    "# Average of subtree\n",
    "from binary_tree.util import TreeNode\n",
    "\n",
    "\n",
    "def averageOfSubtree(root: TreeNode) -> int:\n",
    "    dfs(root, 0)\n",
    "\n"
   ],
   "id": "65bf9b3e57b158a6"
  },
  {
   "metadata": {
    "ExecuteTime": {
     "end_time": "2025-05-01T17:56:33.253710Z",
     "start_time": "2025-05-01T17:56:33.249637Z"
    }
   },
   "cell_type": "code",
   "source": [
    "import heapq\n",
    "from collections import defaultdict\n",
    "\n",
    "\n",
    "class Leaderboard:\n",
    "    def __init__(self):\n",
    "        self.scores = defaultdict(int)  # Player ID to score mapping\n",
    "        self.sorted_scores = []  # Min-heap to maintain top scores\n",
    "\n",
    "    def add_score(self, player_id, score):\n",
    "        # Update the player's score\n",
    "        self.scores[player_id] += score\n",
    "\n",
    "    def top_k(self, k):\n",
    "        # Use a heap to get the top k players\n",
    "        print(self.scores.items())\n",
    "        return heapq.nlargest(k, self.scores.items(), key=lambda x: x[1])\n",
    "\n",
    "    def reset(self, player_id):\n",
    "        # Reset the player's score to zero\n",
    "        if player_id in self.scores:\n",
    "            self.scores[player_id] = 0\n",
    "\n",
    "\n",
    "# Example Usage\n",
    "lb = Leaderboard()\n",
    "lb.add_score(1, 50)\n",
    "lb.add_score(2, 70)\n",
    "lb.add_score(3, 30)\n",
    "lb.add_score(1, 20)\n",
    "\n",
    "print(lb.top_k(2))  # Top 2 players: [(2, 70), (1, 70)]\n",
    "lb.reset(1)\n",
    "print(lb.top_k(2))  # Top 2 players: [(2, 70), (3, 30)]\n"
   ],
   "id": "96c195c97a1ebc30",
   "outputs": [
    {
     "name": "stdout",
     "output_type": "stream",
     "text": [
      "dict_items([(1, 70), (2, 70), (3, 30)])\n",
      "[(1, 70), (2, 70)]\n",
      "dict_items([(1, 0), (2, 70), (3, 30)])\n",
      "[(2, 70), (3, 30)]\n"
     ]
    }
   ],
   "execution_count": 158
  },
  {
   "metadata": {},
   "cell_type": "code",
   "outputs": [],
   "execution_count": null,
   "source": "",
   "id": "92e1d7f6578648da"
  },
  {
   "metadata": {},
   "cell_type": "code",
   "outputs": [],
   "execution_count": null,
   "source": "",
   "id": "c25b2c2ed029c59"
  },
  {
   "metadata": {
    "ExecuteTime": {
     "end_time": "2025-04-26T08:30:53.193212Z",
     "start_time": "2025-04-26T08:30:53.189843Z"
    }
   },
   "cell_type": "code",
   "source": [
    "# Heaters\n",
    "\n",
    "import bisect\n",
    "\n",
    "\n",
    "def findRadius(houses, heaters):\n",
    "    houses.sort()\n",
    "    heaters.sort()\n",
    "\n",
    "    radius = 0\n",
    "\n",
    "    for house in houses:\n",
    "        index = bisect.bisect_left(heaters, house)\n",
    "\n",
    "        if index == 0:\n",
    "            min_dist = heaters[0] - house\n",
    "        elif index == len(heaters):\n",
    "            min_dist = house - heaters[-1]\n",
    "        else:\n",
    "            min_dist = min(house - heaters[index - 1], heaters[index] - house)\n",
    "\n",
    "        radius = max(min_dist, radius)\n",
    "\n",
    "    return radius\n",
    "\n",
    "\n",
    "# Test example\n",
    "houses = [1, 5, 10]\n",
    "heaters = [4, 8]\n",
    "print(findRadius(houses, heaters))  # Output: 3\n"
   ],
   "id": "727b8a153774567b",
   "outputs": [
    {
     "name": "stdout",
     "output_type": "stream",
     "text": [
      "3\n"
     ]
    }
   ],
   "execution_count": 121
  },
  {
   "metadata": {},
   "cell_type": "code",
   "outputs": [],
   "execution_count": null,
   "source": "",
   "id": "979cddb4e9f38f92"
  }
 ],
 "metadata": {
  "kernelspec": {
   "display_name": "Python 3",
   "language": "python",
   "name": "python3"
  },
  "language_info": {
   "codemirror_mode": {
    "name": "ipython",
    "version": 2
   },
   "file_extension": ".py",
   "mimetype": "text/x-python",
   "name": "python",
   "nbconvert_exporter": "python",
   "pygments_lexer": "ipython2",
   "version": "2.7.6"
  }
 },
 "nbformat": 4,
 "nbformat_minor": 5
}
