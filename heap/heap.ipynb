{
 "cells": [
  {
   "cell_type": "code",
   "id": "initial_id",
   "metadata": {
    "collapsed": true,
    "ExecuteTime": {
     "end_time": "2025-04-05T14:56:48.996591Z",
     "start_time": "2025-04-05T14:56:48.993202Z"
    }
   },
   "source": [
    "# Min Heap\n",
    "# Time: O(n), Space: O(1)\n",
    "import heapq\n",
    "import math\n",
    "\n",
    "A = [-4, 3, 1, 0, 2, 5, 10, 8, 12, 9]\n",
    "\n",
    "heapq.heapify(A)\n",
    "\n",
    "A"
   ],
   "outputs": [
    {
     "data": {
      "text/plain": [
       "[-4, 0, 1, 3, 2, 5, 10, 8, 12, 9]"
      ]
     },
     "execution_count": 11,
     "metadata": {},
     "output_type": "execute_result"
    }
   ],
   "execution_count": 11
  },
  {
   "metadata": {
    "ExecuteTime": {
     "end_time": "2025-04-05T14:58:33.377277Z",
     "start_time": "2025-04-05T14:58:33.375190Z"
    }
   },
   "cell_type": "code",
   "source": [
    "# Heap push ( Insert element)\n",
    "# Time: O(log n)\n",
    "\n",
    "heapq.heappush(A, 4)\n",
    "A\n"
   ],
   "id": "5948a2c2e04c69f2",
   "outputs": [
    {
     "data": {
      "text/plain": [
       "[-4, 0, 1, 3, 2, 5, 10, 8, 12, 9, 4]"
      ]
     },
     "execution_count": 12,
     "metadata": {},
     "output_type": "execute_result"
    }
   ],
   "execution_count": 12
  },
  {
   "metadata": {
    "ExecuteTime": {
     "end_time": "2025-04-05T15:00:11.423461Z",
     "start_time": "2025-04-05T15:00:11.420383Z"
    }
   },
   "cell_type": "code",
   "source": [
    "# Heap pop ( extract min element)\n",
    "# Time: O(log n)\n",
    "\n",
    "minn = heapq.heappop(A)\n",
    "minn, A"
   ],
   "id": "9d2fda9b3c764473",
   "outputs": [
    {
     "data": {
      "text/plain": [
       "(-4, [0, 2, 1, 3, 4, 5, 10, 8, 12, 9])"
      ]
     },
     "execution_count": 13,
     "metadata": {},
     "output_type": "execute_result"
    }
   ],
   "execution_count": 13
  },
  {
   "metadata": {
    "ExecuteTime": {
     "end_time": "2025-04-05T15:02:03.190391Z",
     "start_time": "2025-04-05T15:02:03.186824Z"
    }
   },
   "cell_type": "code",
   "source": [
    "# Heap Sort\n",
    "# Time: O(n log n), Space: O(n)\n",
    "# NOTE: O(1) Space is possible via swapping, but this is complex\n",
    "\n",
    "def heapsort(arr):\n",
    "    heapq.heapify(arr)\n",
    "    n = len(arr)\n",
    "    new_list = [0] * n\n",
    "\n",
    "    for i in range(n):\n",
    "        minn = heapq.heappop(arr)\n",
    "        new_list[i] = minn\n",
    "\n",
    "    return new_list\n",
    "\n",
    "\n",
    "heapsort([1, 3, 5, 7, 9, 2, 4, 6, 8, 0])"
   ],
   "id": "83e3f9d1ffc68f4e",
   "outputs": [
    {
     "data": {
      "text/plain": [
       "[0, 1, 2, 3, 4, 5, 6, 7, 8, 9]"
      ]
     },
     "execution_count": 14,
     "metadata": {},
     "output_type": "execute_result"
    }
   ],
   "execution_count": 14
  },
  {
   "metadata": {
    "ExecuteTime": {
     "end_time": "2025-04-05T15:04:37.375254Z",
     "start_time": "2025-04-05T15:04:37.371668Z"
    }
   },
   "cell_type": "code",
   "source": [
    "# Max Heap\n",
    "\n",
    "B = [-4, 3, 1, 0, 2, 5, 10, 8, 12, 9]\n",
    "n = len(B)\n",
    "\n",
    "for i in range(n):\n",
    "    B[i] = -B[i]\n",
    "\n",
    "heapq.heapify(B)\n",
    "\n",
    "B"
   ],
   "id": "f55f3d7b2efe3315",
   "outputs": [
    {
     "data": {
      "text/plain": [
       "[-12, -9, -10, -8, -2, -5, -1, -3, 0, 4]"
      ]
     },
     "execution_count": 15,
     "metadata": {},
     "output_type": "execute_result"
    }
   ],
   "execution_count": 15
  },
  {
   "metadata": {
    "ExecuteTime": {
     "end_time": "2025-04-05T15:06:26.545379Z",
     "start_time": "2025-04-05T15:06:26.542327Z"
    }
   },
   "cell_type": "code",
   "source": [
    "# Putting tuples of items on the heap\n",
    "\n",
    "D = [5, 4, 3, 5, 4, 3, 5, 5, 4]\n",
    "\n",
    "from collections import Counter\n",
    "\n",
    "counter = Counter(D)\n",
    "\n",
    "counter"
   ],
   "id": "81772f55c1584d65",
   "outputs": [
    {
     "data": {
      "text/plain": [
       "Counter({5: 4, 4: 3, 3: 2})"
      ]
     },
     "execution_count": 16,
     "metadata": {},
     "output_type": "execute_result"
    }
   ],
   "execution_count": 16
  },
  {
   "metadata": {
    "ExecuteTime": {
     "end_time": "2025-04-05T15:06:36.634614Z",
     "start_time": "2025-04-05T15:06:36.631427Z"
    }
   },
   "cell_type": "code",
   "source": [
    "heap = []\n",
    "\n",
    "for k, v in counter.items():\n",
    "    heapq.heappush(heap, (v, k))\n",
    "\n",
    "heap"
   ],
   "id": "8d183fa3656a211",
   "outputs": [
    {
     "data": {
      "text/plain": [
       "[(2, 3), (4, 5), (3, 4)]"
      ]
     },
     "execution_count": 17,
     "metadata": {},
     "output_type": "execute_result"
    }
   ],
   "execution_count": 17
  },
  {
   "metadata": {
    "ExecuteTime": {
     "end_time": "2025-04-05T15:46:52.670986Z",
     "start_time": "2025-04-05T15:46:52.666642Z"
    }
   },
   "cell_type": "code",
   "source": [
    "from typing import List\n",
    "\n",
    "\n",
    "# Kth Largest Element in a Stream\n",
    "class KthLargestSorting:\n",
    "\n",
    "    def __init__(self, k: int, nums: List[int]):\n",
    "        self.k = k\n",
    "        self.nums = nums\n",
    "\n",
    "    def add(self, val: int) -> int:\n",
    "        self.nums.append(val)\n",
    "        self.nums.sort()\n",
    "        return self.nums[self.k * -1]\n",
    "\n",
    "\n",
    "kthLargest = KthLargestSorting(3, [1, 2, 3, 3])\n",
    "\n",
    "print(kthLargest.add(3))\n",
    "print(kthLargest.add(5))\n",
    "print(kthLargest.add(6))\n",
    "print(kthLargest.add(7))\n",
    "print(kthLargest.add(8))\n",
    "\n",
    "\n",
    "# Kth Largest without sorting\n",
    "\n",
    "def find_kth_largest(nums: List[int], k: int):\n",
    "    size = len(nums)\n",
    "    diff = size - k\n",
    "    heapq.heapify(nums)\n",
    "    ans = 0\n",
    "    while diff > -1:\n",
    "        ans = heapq.heappop(nums)\n",
    "        if diff == 0:\n",
    "            break\n",
    "        diff -= 1\n",
    "    return ans\n",
    "\n",
    "\n",
    "print(\"===heap sort==\")\n",
    "print(find_kth_largest(nums=[1, 2, 3, 3, 3], k=3))\n",
    "\n",
    "\n",
    "def find_kth_larges_pp(nums: List[int], k: int):\n",
    "    xx = []\n",
    "    for index, item in enumerate(nums):\n",
    "        if index < k:\n",
    "            heapq.heappush(xx, item)\n",
    "        else:\n",
    "            heapq.heappushpop(xx, item)\n",
    "    return xx[0]\n",
    "\n",
    "\n",
    "print(\"===heap sort push pop==\")\n",
    "print(find_kth_largest(nums=[1, 2, 3, 3, 3], k=3))"
   ],
   "id": "25de701086b0101a",
   "outputs": [
    {
     "name": "stdout",
     "output_type": "stream",
     "text": [
      "3\n",
      "3\n",
      "3\n",
      "5\n",
      "6\n",
      "===heap sort==\n",
      "3\n",
      "===heap sort push pop==\n",
      "3\n"
     ]
    }
   ],
   "execution_count": 34
  },
  {
   "metadata": {
    "ExecuteTime": {
     "end_time": "2025-04-05T15:22:59.457852Z",
     "start_time": "2025-04-05T15:22:59.452712Z"
    }
   },
   "cell_type": "code",
   "source": [
    "# Last Stone Weight\n",
    "def lastStoneWeight(stones: List[int]) -> int:\n",
    "    ss = sorted(stones)\n",
    "    while len(ss) > 1:\n",
    "\n",
    "        y = ss.pop()\n",
    "        x = ss.pop()\n",
    "        if y > x:\n",
    "            ss.append(y - x)\n",
    "            ss = sorted(ss)\n",
    "    if not ss:\n",
    "        return 0\n",
    "    return ss[0]\n",
    "\n",
    "\n",
    "def lastStoneWeightHeap(stones: List[int]) -> int:\n",
    "    import heapq\n",
    "    max_stones = [0] * len(stones)\n",
    "    for i in range(len(stones)):\n",
    "        max_stones[i] = -stones[i]\n",
    "    heapq.heapify(max_stones)\n",
    "    while len(max_stones) > 1:\n",
    "        heapq.heapify(max_stones)\n",
    "        y = heapq.heappop(max_stones)\n",
    "        x = heapq.heappop(max_stones)\n",
    "        diff = (-1 * y) - (-1 * x)\n",
    "        if diff > 0:\n",
    "            heapq.heappush(max_stones, -1 * diff)\n",
    "    if not max_stones:\n",
    "        return 0\n",
    "    return max_stones[0] * -1\n",
    "\n",
    "\n",
    "stones = [2, 3, 6, 2, 4]\n",
    "lastStoneWeightHeap(stones=stones)\n"
   ],
   "id": "918b7ab83ddda844",
   "outputs": [
    {
     "data": {
      "text/plain": [
       "1"
      ]
     },
     "execution_count": 19,
     "metadata": {},
     "output_type": "execute_result"
    }
   ],
   "execution_count": 19
  },
  {
   "metadata": {
    "ExecuteTime": {
     "end_time": "2025-04-05T16:19:14.269335Z",
     "start_time": "2025-04-05T16:19:14.266635Z"
    }
   },
   "cell_type": "code",
   "source": [
    "# Top Kth Frequent Element\n",
    "from collections import Counter\n",
    "\n",
    "\n",
    "def topKFrequentCC(nums: List[int], k: int):\n",
    "    freq_count = Counter(nums)\n",
    "    y = freq_count.most_common(k)\n",
    "    return [res[0] for res in y]\n",
    "\n",
    "\n",
    "print(topKFrequentCC(nums=[2, 3, 6, 2, 4, 4, 4], k=2))\n",
    "\n",
    "\n",
    "def topKFrequentHS(nums: List[int], k: int):\n",
    "    freq_count = Counter(nums)\n",
    "\n",
    "    h = []\n",
    "    for key, val in freq_count.items():\n",
    "        h.append((-val, key))\n",
    "    heapq.heapify(h)\n",
    "\n",
    "    ans = []\n",
    "    for _ in range(k):\n",
    "        ans.append(heapq.heappop(h)[1])\n",
    "    return ans\n",
    "\n",
    "\n",
    "print(topKFrequentHS(nums=[2, 3, 6, 2, 4, 4, 4], k=2))"
   ],
   "id": "d9c7ee1bcb72c610",
   "outputs": [
    {
     "name": "stdout",
     "output_type": "stream",
     "text": [
      "[4, 2]\n",
      "[4, 2]\n"
     ]
    }
   ],
   "execution_count": 41
  },
  {
   "metadata": {
    "ExecuteTime": {
     "end_time": "2025-04-05T17:23:32.168279Z",
     "start_time": "2025-04-05T17:23:32.165333Z"
    }
   },
   "cell_type": "code",
   "source": [
    "# K closest points to origin\n",
    "import math\n",
    "def kClosest(points: List[List[int]], k: int) -> List[List[int]]:\n",
    "    distance_to_points = []\n",
    "    for point in points:\n",
    "        x, y = point[0], point[1]\n",
    "        distance = math.sqrt((x - 0) ** 2 + (y - 0) ** 2)\n",
    "        heapq.heappush(distance_to_points, (distance, (x, y)))\n",
    "    ans = []\n",
    "    for _ in range(k):\n",
    "        ans.append(heapq.heappop(distance_to_points)[1])\n",
    "    return ans\n",
    "\n",
    "\n",
    "print(kClosest(points=[[3, 3], [5, -1], [-2, 4]], k=2))"
   ],
   "id": "120fd0ed96b7a55",
   "outputs": [
    {
     "name": "stdout",
     "output_type": "stream",
     "text": [
      "[(3, 3), (-2, 4)]\n"
     ]
    }
   ],
   "execution_count": 45
  },
  {
   "metadata": {},
   "cell_type": "code",
   "outputs": [],
   "execution_count": null,
   "source": "",
   "id": "d1a44e4bea264724"
  }
 ],
 "metadata": {
  "kernelspec": {
   "display_name": "Python 3",
   "language": "python",
   "name": "python3"
  },
  "language_info": {
   "codemirror_mode": {
    "name": "ipython",
    "version": 2
   },
   "file_extension": ".py",
   "mimetype": "text/x-python",
   "name": "python",
   "nbconvert_exporter": "python",
   "pygments_lexer": "ipython2",
   "version": "2.7.6"
  }
 },
 "nbformat": 4,
 "nbformat_minor": 5
}
