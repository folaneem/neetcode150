{
 "cells": [
  {
   "cell_type": "code",
   "id": "initial_id",
   "metadata": {
    "collapsed": true,
    "ExecuteTime": {
     "end_time": "2025-04-21T13:32:14.479074Z",
     "start_time": "2025-04-21T13:32:14.476443Z"
    }
   },
   "source": "from linked_list.utils import ListNode, print_linked_list, create_linked_list",
   "outputs": [],
   "execution_count": 1
  },
  {
   "metadata": {
    "ExecuteTime": {
     "end_time": "2025-04-21T13:45:17.892869Z",
     "start_time": "2025-04-21T13:45:17.890185Z"
    }
   },
   "cell_type": "code",
   "source": [
    "Head = ListNode(value=1)\n",
    "A = ListNode(value=2)\n",
    "B = ListNode(value=3)\n",
    "C = ListNode(value=4)\n",
    "Head.next = A\n",
    "A.next = B\n",
    "B.next = C\n",
    "print_linked_list(Head)"
   ],
   "id": "96210d5b6f8b08e9",
   "outputs": [
    {
     "name": "stdout",
     "output_type": "stream",
     "text": [
      "1 -> 2 -> 3 -> 4\n"
     ]
    }
   ],
   "execution_count": 13
  },
  {
   "metadata": {
    "ExecuteTime": {
     "end_time": "2025-04-21T15:43:05.853044Z",
     "start_time": "2025-04-21T15:43:05.850185Z"
    }
   },
   "cell_type": "code",
   "source": [
    "# Traverse the list - O(n)\n",
    "curr = Head\n",
    "while curr:\n",
    "    print(curr)\n",
    "    curr = curr.next"
   ],
   "id": "6f32002064473869",
   "outputs": [
    {
     "name": "stdout",
     "output_type": "stream",
     "text": [
      "1\n",
      "2\n",
      "3\n",
      "4\n"
     ]
    }
   ],
   "execution_count": 19
  },
  {
   "metadata": {
    "ExecuteTime": {
     "end_time": "2025-04-21T16:09:33.242033Z",
     "start_time": "2025-04-21T16:09:33.239440Z"
    }
   },
   "cell_type": "code",
   "source": [
    "# Display Linked List - O(n)\n",
    "curr = Head\n",
    "values = []\n",
    "while curr:\n",
    "    values.append(curr.value)\n",
    "    curr = curr.next\n",
    "print(values)"
   ],
   "id": "6ac8cbe150e3552c",
   "outputs": [
    {
     "name": "stdout",
     "output_type": "stream",
     "text": [
      "[]\n"
     ]
    }
   ],
   "execution_count": 21
  },
  {
   "metadata": {
    "ExecuteTime": {
     "end_time": "2025-04-21T13:49:14.586045Z",
     "start_time": "2025-04-21T13:49:14.584283Z"
    }
   },
   "cell_type": "code",
   "source": [
    "def search(head, value):\n",
    "    curr = head\n",
    "    while curr:\n",
    "        if value == curr.value:\n",
    "            return True\n",
    "        curr = curr.next\n",
    "    return False\n",
    "\n",
    "print(search(Head, 2))"
   ],
   "id": "55cd6a8e94dede33",
   "outputs": [
    {
     "name": "stdout",
     "output_type": "stream",
     "text": [
      "False\n"
     ]
    }
   ],
   "execution_count": 18
  },
  {
   "metadata": {},
   "cell_type": "code",
   "outputs": [],
   "execution_count": null,
   "source": "",
   "id": "8b85f110eed3a09d"
  }
 ],
 "metadata": {
  "kernelspec": {
   "display_name": "Python 3",
   "language": "python",
   "name": "python3"
  },
  "language_info": {
   "codemirror_mode": {
    "name": "ipython",
    "version": 2
   },
   "file_extension": ".py",
   "mimetype": "text/x-python",
   "name": "python",
   "nbconvert_exporter": "python",
   "pygments_lexer": "ipython2",
   "version": "2.7.6"
  }
 },
 "nbformat": 4,
 "nbformat_minor": 5
}
